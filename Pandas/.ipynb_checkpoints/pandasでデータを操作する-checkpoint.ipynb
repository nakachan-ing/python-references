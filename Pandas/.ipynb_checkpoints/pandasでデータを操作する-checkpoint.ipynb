{
 "cells": [
  {
   "cell_type": "markdown",
   "id": "3b598c42-31aa-430d-8d2f-9fcc10c861eb",
   "metadata": {},
   "source": [
    "## pandasのインポート"
   ]
  },
  {
   "cell_type": "code",
   "execution_count": 1,
   "id": "62e7825b-62f6-4f92-9949-16c1cf130a17",
   "metadata": {},
   "outputs": [],
   "source": [
    "import pandas as pd"
   ]
  },
  {
   "cell_type": "markdown",
   "id": "60e1a649-a45a-464a-aa6a-114140d7691d",
   "metadata": {},
   "source": [
    "## csvファイルの読み込み\n",
    "「1920年から2015年までの全国の人口推移のデータ」を使用します。"
   ]
  },
  {
   "cell_type": "code",
   "execution_count": 2,
   "id": "9dc0ea47-fd66-4210-9ab7-5dd2ccfd9be5",
   "metadata": {},
   "outputs": [
    {
     "data": {
      "text/html": [
       "<div>\n",
       "<style scoped>\n",
       "    .dataframe tbody tr th:only-of-type {\n",
       "        vertical-align: middle;\n",
       "    }\n",
       "\n",
       "    .dataframe tbody tr th {\n",
       "        vertical-align: top;\n",
       "    }\n",
       "\n",
       "    .dataframe thead th {\n",
       "        text-align: right;\n",
       "    }\n",
       "</style>\n",
       "<table border=\"1\" class=\"dataframe\">\n",
       "  <thead>\n",
       "    <tr style=\"text-align: right;\">\n",
       "      <th></th>\n",
       "      <th>都道府県コード</th>\n",
       "      <th>都道府県名</th>\n",
       "      <th>元号</th>\n",
       "      <th>和暦（年）</th>\n",
       "      <th>西暦（年）</th>\n",
       "      <th>人口（総数）</th>\n",
       "      <th>人口（男）</th>\n",
       "      <th>人口（女）</th>\n",
       "    </tr>\n",
       "  </thead>\n",
       "  <tbody>\n",
       "    <tr>\n",
       "      <th>0</th>\n",
       "      <td>1</td>\n",
       "      <td>北海道</td>\n",
       "      <td>大正</td>\n",
       "      <td>9.0</td>\n",
       "      <td>1920.0</td>\n",
       "      <td>2359183</td>\n",
       "      <td>1244322</td>\n",
       "      <td>1114861</td>\n",
       "    </tr>\n",
       "    <tr>\n",
       "      <th>1</th>\n",
       "      <td>2</td>\n",
       "      <td>青森県</td>\n",
       "      <td>大正</td>\n",
       "      <td>9.0</td>\n",
       "      <td>1920.0</td>\n",
       "      <td>756454</td>\n",
       "      <td>381293</td>\n",
       "      <td>375161</td>\n",
       "    </tr>\n",
       "    <tr>\n",
       "      <th>2</th>\n",
       "      <td>3</td>\n",
       "      <td>岩手県</td>\n",
       "      <td>大正</td>\n",
       "      <td>9.0</td>\n",
       "      <td>1920.0</td>\n",
       "      <td>845540</td>\n",
       "      <td>421069</td>\n",
       "      <td>424471</td>\n",
       "    </tr>\n",
       "    <tr>\n",
       "      <th>3</th>\n",
       "      <td>4</td>\n",
       "      <td>宮城県</td>\n",
       "      <td>大正</td>\n",
       "      <td>9.0</td>\n",
       "      <td>1920.0</td>\n",
       "      <td>961768</td>\n",
       "      <td>485309</td>\n",
       "      <td>476459</td>\n",
       "    </tr>\n",
       "    <tr>\n",
       "      <th>4</th>\n",
       "      <td>5</td>\n",
       "      <td>秋田県</td>\n",
       "      <td>大正</td>\n",
       "      <td>9.0</td>\n",
       "      <td>1920.0</td>\n",
       "      <td>898537</td>\n",
       "      <td>453682</td>\n",
       "      <td>444855</td>\n",
       "    </tr>\n",
       "    <tr>\n",
       "      <th>...</th>\n",
       "      <td>...</td>\n",
       "      <td>...</td>\n",
       "      <td>...</td>\n",
       "      <td>...</td>\n",
       "      <td>...</td>\n",
       "      <td>...</td>\n",
       "      <td>...</td>\n",
       "      <td>...</td>\n",
       "    </tr>\n",
       "    <tr>\n",
       "      <th>934</th>\n",
       "      <td>43</td>\n",
       "      <td>熊本県</td>\n",
       "      <td>平成</td>\n",
       "      <td>27.0</td>\n",
       "      <td>2015.0</td>\n",
       "      <td>1786170</td>\n",
       "      <td>841046</td>\n",
       "      <td>945124</td>\n",
       "    </tr>\n",
       "    <tr>\n",
       "      <th>935</th>\n",
       "      <td>44</td>\n",
       "      <td>大分県</td>\n",
       "      <td>平成</td>\n",
       "      <td>27.0</td>\n",
       "      <td>2015.0</td>\n",
       "      <td>1166338</td>\n",
       "      <td>551932</td>\n",
       "      <td>614406</td>\n",
       "    </tr>\n",
       "    <tr>\n",
       "      <th>936</th>\n",
       "      <td>45</td>\n",
       "      <td>宮崎県</td>\n",
       "      <td>平成</td>\n",
       "      <td>27.0</td>\n",
       "      <td>2015.0</td>\n",
       "      <td>1104069</td>\n",
       "      <td>519242</td>\n",
       "      <td>584827</td>\n",
       "    </tr>\n",
       "    <tr>\n",
       "      <th>937</th>\n",
       "      <td>46</td>\n",
       "      <td>鹿児島県</td>\n",
       "      <td>平成</td>\n",
       "      <td>27.0</td>\n",
       "      <td>2015.0</td>\n",
       "      <td>1648177</td>\n",
       "      <td>773061</td>\n",
       "      <td>875116</td>\n",
       "    </tr>\n",
       "    <tr>\n",
       "      <th>938</th>\n",
       "      <td>47</td>\n",
       "      <td>沖縄県</td>\n",
       "      <td>平成</td>\n",
       "      <td>27.0</td>\n",
       "      <td>2015.0</td>\n",
       "      <td>1433566</td>\n",
       "      <td>704619</td>\n",
       "      <td>728947</td>\n",
       "    </tr>\n",
       "  </tbody>\n",
       "</table>\n",
       "<p>939 rows × 8 columns</p>\n",
       "</div>"
      ],
      "text/plain": [
       "     都道府県コード 都道府県名  元号  和暦（年）   西暦（年）   人口（総数）    人口（男）    人口（女）\n",
       "0          1   北海道  大正    9.0  1920.0  2359183  1244322  1114861\n",
       "1          2   青森県  大正    9.0  1920.0   756454   381293   375161\n",
       "2          3   岩手県  大正    9.0  1920.0   845540   421069   424471\n",
       "3          4   宮城県  大正    9.0  1920.0   961768   485309   476459\n",
       "4          5   秋田県  大正    9.0  1920.0   898537   453682   444855\n",
       "..       ...   ...  ..    ...     ...      ...      ...      ...\n",
       "934       43   熊本県  平成   27.0  2015.0  1786170   841046   945124\n",
       "935       44   大分県  平成   27.0  2015.0  1166338   551932   614406\n",
       "936       45   宮崎県  平成   27.0  2015.0  1104069   519242   584827\n",
       "937       46  鹿児島県  平成   27.0  2015.0  1648177   773061   875116\n",
       "938       47   沖縄県  平成   27.0  2015.0  1433566   704619   728947\n",
       "\n",
       "[939 rows x 8 columns]"
      ]
     },
     "execution_count": 2,
     "metadata": {},
     "output_type": "execute_result"
    }
   ],
   "source": [
    "df = pd.read_csv('data.csv', encoding='shift-jis')\n",
    "df"
   ]
  },
  {
   "cell_type": "markdown",
   "id": "d072c57b-130c-4823-b033-ca636414ca2d",
   "metadata": {},
   "source": [
    "私のGitHubに「nikkei.csv」としてアップロードしてあるので、下記コマンドでダウンロードすれば簡単に準備できます。\n",
    "\n",
    "```curl https://raw.githubusercontent.com/nakachan-ing/python-references/master/Pandas/data.csv -O```"
   ]
  },
  {
   "cell_type": "markdown",
   "id": "817e72d2-4679-4bf2-a53c-083d9b975a53",
   "metadata": {},
   "source": [
    "## データ型を調べる\n",
    "列ごとのデータ型を```dtypes```属性で調べることができます。"
   ]
  },
  {
   "cell_type": "code",
   "execution_count": 45,
   "id": "8871f1ac-b02b-4105-b3df-15287f499abe",
   "metadata": {},
   "outputs": [
    {
     "data": {
      "text/plain": [
       "都道府県コード      int64\n",
       "都道府県名       object\n",
       "元号          object\n",
       "和暦（年）      float64\n",
       "西暦（年）      float64\n",
       "人口（総数）       int64\n",
       "人口（男）        int64\n",
       "人口（女）        int64\n",
       "dtype: object"
      ]
     },
     "execution_count": 45,
     "metadata": {},
     "output_type": "execute_result"
    }
   ],
   "source": [
    "df.dtypes"
   ]
  },
  {
   "cell_type": "markdown",
   "id": "83aeba37-500e-4353-94ee-20b7dba92072",
   "metadata": {},
   "source": [
    "## 行数、列数を取得する\n",
    "```shape```属性で行数と列数をまとめて取得することができます。"
   ]
  },
  {
   "cell_type": "code",
   "execution_count": 47,
   "id": "f97d00c2-36d8-4514-9daf-3676670433f0",
   "metadata": {},
   "outputs": [
    {
     "data": {
      "text/plain": [
       "(939, 8)"
      ]
     },
     "execution_count": 47,
     "metadata": {},
     "output_type": "execute_result"
    }
   ],
   "source": [
    "df.shape\n",
    "# (行数, 列数)"
   ]
  },
  {
   "cell_type": "markdown",
   "id": "476fe8ed-0ad6-4038-ae8c-0e3f253fd030",
   "metadata": {},
   "source": [
    "## 列を取得する\n",
    "データフレームからカラム名を指定して、シリーズ（Series）として取得します。"
   ]
  },
  {
   "cell_type": "code",
   "execution_count": 7,
   "id": "3c4786cf-4f50-406a-a792-807c29cc8ac0",
   "metadata": {},
   "outputs": [
    {
     "data": {
      "text/plain": [
       "0      2359183\n",
       "1       756454\n",
       "2       845540\n",
       "3       961768\n",
       "4       898537\n",
       "        ...   \n",
       "934    1786170\n",
       "935    1166338\n",
       "936    1104069\n",
       "937    1648177\n",
       "938    1433566\n",
       "Name: 人口（総数）, Length: 939, dtype: int64"
      ]
     },
     "execution_count": 7,
     "metadata": {},
     "output_type": "execute_result"
    }
   ],
   "source": [
    "series_population = df['人口（総数）']\n",
    "series_population"
   ]
  },
  {
   "cell_type": "code",
   "execution_count": 8,
   "id": "04e28ee0-be4f-4ced-9aa1-6edb79ac1c12",
   "metadata": {},
   "outputs": [
    {
     "data": {
      "text/plain": [
       "pandas.core.series.Series"
      ]
     },
     "execution_count": 8,
     "metadata": {},
     "output_type": "execute_result"
    }
   ],
   "source": [
    "type(series_population)"
   ]
  },
  {
   "cell_type": "markdown",
   "id": "a6a045e3-4ea2-476d-a6ba-5ae08e77504e",
   "metadata": {},
   "source": [
    "### ポイント\n",
    "- ```df['カラム名']```でカラム名に対するデータを取得できます。\n",
    "- 取得したデータを```type()```で確認すると、```Series```であることが確認できます。"
   ]
  },
  {
   "cell_type": "code",
   "execution_count": 9,
   "id": "69aa6f90-9f76-4cf3-8e16-c54cdc8409ec",
   "metadata": {},
   "outputs": [
    {
     "data": {
      "text/html": [
       "<div>\n",
       "<style scoped>\n",
       "    .dataframe tbody tr th:only-of-type {\n",
       "        vertical-align: middle;\n",
       "    }\n",
       "\n",
       "    .dataframe tbody tr th {\n",
       "        vertical-align: top;\n",
       "    }\n",
       "\n",
       "    .dataframe thead th {\n",
       "        text-align: right;\n",
       "    }\n",
       "</style>\n",
       "<table border=\"1\" class=\"dataframe\">\n",
       "  <thead>\n",
       "    <tr style=\"text-align: right;\">\n",
       "      <th></th>\n",
       "      <th>人口（総数）</th>\n",
       "    </tr>\n",
       "  </thead>\n",
       "  <tbody>\n",
       "    <tr>\n",
       "      <th>0</th>\n",
       "      <td>2359183</td>\n",
       "    </tr>\n",
       "    <tr>\n",
       "      <th>1</th>\n",
       "      <td>756454</td>\n",
       "    </tr>\n",
       "    <tr>\n",
       "      <th>2</th>\n",
       "      <td>845540</td>\n",
       "    </tr>\n",
       "    <tr>\n",
       "      <th>3</th>\n",
       "      <td>961768</td>\n",
       "    </tr>\n",
       "    <tr>\n",
       "      <th>4</th>\n",
       "      <td>898537</td>\n",
       "    </tr>\n",
       "    <tr>\n",
       "      <th>...</th>\n",
       "      <td>...</td>\n",
       "    </tr>\n",
       "    <tr>\n",
       "      <th>934</th>\n",
       "      <td>1786170</td>\n",
       "    </tr>\n",
       "    <tr>\n",
       "      <th>935</th>\n",
       "      <td>1166338</td>\n",
       "    </tr>\n",
       "    <tr>\n",
       "      <th>936</th>\n",
       "      <td>1104069</td>\n",
       "    </tr>\n",
       "    <tr>\n",
       "      <th>937</th>\n",
       "      <td>1648177</td>\n",
       "    </tr>\n",
       "    <tr>\n",
       "      <th>938</th>\n",
       "      <td>1433566</td>\n",
       "    </tr>\n",
       "  </tbody>\n",
       "</table>\n",
       "<p>939 rows × 1 columns</p>\n",
       "</div>"
      ],
      "text/plain": [
       "      人口（総数）\n",
       "0    2359183\n",
       "1     756454\n",
       "2     845540\n",
       "3     961768\n",
       "4     898537\n",
       "..       ...\n",
       "934  1786170\n",
       "935  1166338\n",
       "936  1104069\n",
       "937  1648177\n",
       "938  1433566\n",
       "\n",
       "[939 rows x 1 columns]"
      ]
     },
     "execution_count": 9,
     "metadata": {},
     "output_type": "execute_result"
    }
   ],
   "source": [
    "df_population = df[['人口（総数）']]\n",
    "df_population"
   ]
  },
  {
   "cell_type": "markdown",
   "id": "e9530533-e540-49e8-a2df-4af457aa27d6",
   "metadata": {},
   "source": [
    "- 二重括弧[[]]でカラム名を指定することで、データフレームとして取得することができます。"
   ]
  },
  {
   "cell_type": "code",
   "execution_count": 10,
   "id": "7e0d5955-8941-429f-810f-2a4d70930898",
   "metadata": {},
   "outputs": [
    {
     "data": {
      "text/plain": [
       "pandas.core.frame.DataFrame"
      ]
     },
     "execution_count": 10,
     "metadata": {},
     "output_type": "execute_result"
    }
   ],
   "source": [
    "type(df_population)"
   ]
  },
  {
   "cell_type": "code",
   "execution_count": 11,
   "id": "9b5c0b9f-b3ca-4f4f-889d-41d617220b5c",
   "metadata": {},
   "outputs": [
    {
     "data": {
      "text/html": [
       "<div>\n",
       "<style scoped>\n",
       "    .dataframe tbody tr th:only-of-type {\n",
       "        vertical-align: middle;\n",
       "    }\n",
       "\n",
       "    .dataframe tbody tr th {\n",
       "        vertical-align: top;\n",
       "    }\n",
       "\n",
       "    .dataframe thead th {\n",
       "        text-align: right;\n",
       "    }\n",
       "</style>\n",
       "<table border=\"1\" class=\"dataframe\">\n",
       "  <thead>\n",
       "    <tr style=\"text-align: right;\">\n",
       "      <th></th>\n",
       "      <th>人口（男）</th>\n",
       "      <th>人口（女）</th>\n",
       "    </tr>\n",
       "  </thead>\n",
       "  <tbody>\n",
       "    <tr>\n",
       "      <th>0</th>\n",
       "      <td>1244322</td>\n",
       "      <td>1114861</td>\n",
       "    </tr>\n",
       "    <tr>\n",
       "      <th>1</th>\n",
       "      <td>381293</td>\n",
       "      <td>375161</td>\n",
       "    </tr>\n",
       "    <tr>\n",
       "      <th>2</th>\n",
       "      <td>421069</td>\n",
       "      <td>424471</td>\n",
       "    </tr>\n",
       "    <tr>\n",
       "      <th>3</th>\n",
       "      <td>485309</td>\n",
       "      <td>476459</td>\n",
       "    </tr>\n",
       "    <tr>\n",
       "      <th>4</th>\n",
       "      <td>453682</td>\n",
       "      <td>444855</td>\n",
       "    </tr>\n",
       "    <tr>\n",
       "      <th>...</th>\n",
       "      <td>...</td>\n",
       "      <td>...</td>\n",
       "    </tr>\n",
       "    <tr>\n",
       "      <th>934</th>\n",
       "      <td>841046</td>\n",
       "      <td>945124</td>\n",
       "    </tr>\n",
       "    <tr>\n",
       "      <th>935</th>\n",
       "      <td>551932</td>\n",
       "      <td>614406</td>\n",
       "    </tr>\n",
       "    <tr>\n",
       "      <th>936</th>\n",
       "      <td>519242</td>\n",
       "      <td>584827</td>\n",
       "    </tr>\n",
       "    <tr>\n",
       "      <th>937</th>\n",
       "      <td>773061</td>\n",
       "      <td>875116</td>\n",
       "    </tr>\n",
       "    <tr>\n",
       "      <th>938</th>\n",
       "      <td>704619</td>\n",
       "      <td>728947</td>\n",
       "    </tr>\n",
       "  </tbody>\n",
       "</table>\n",
       "<p>939 rows × 2 columns</p>\n",
       "</div>"
      ],
      "text/plain": [
       "       人口（男）    人口（女）\n",
       "0    1244322  1114861\n",
       "1     381293   375161\n",
       "2     421069   424471\n",
       "3     485309   476459\n",
       "4     453682   444855\n",
       "..       ...      ...\n",
       "934   841046   945124\n",
       "935   551932   614406\n",
       "936   519242   584827\n",
       "937   773061   875116\n",
       "938   704619   728947\n",
       "\n",
       "[939 rows x 2 columns]"
      ]
     },
     "execution_count": 11,
     "metadata": {},
     "output_type": "execute_result"
    }
   ],
   "source": [
    "df_population_by_gender = df[['人口（男）', '人口（女）']]\n",
    "df_population_by_gender"
   ]
  },
  {
   "cell_type": "markdown",
   "id": "41a22eae-9e44-47e0-8814-e57e99ded721",
   "metadata": {},
   "source": [
    "- 二重括弧内にコンマ続きでカラム名を指定すると、複数の列を取得することができます。"
   ]
  },
  {
   "cell_type": "markdown",
   "id": "53bd9915-122b-4927-8bd4-974c220992a4",
   "metadata": {},
   "source": [
    "## 行と列を取得する:loc()\n",
    "行や列のラベルを指定して値を取得します。"
   ]
  },
  {
   "cell_type": "code",
   "execution_count": 12,
   "id": "d5e4085a-29c3-4e0f-a535-c20661a79ca6",
   "metadata": {},
   "outputs": [
    {
     "data": {
      "text/html": [
       "<div>\n",
       "<style scoped>\n",
       "    .dataframe tbody tr th:only-of-type {\n",
       "        vertical-align: middle;\n",
       "    }\n",
       "\n",
       "    .dataframe tbody tr th {\n",
       "        vertical-align: top;\n",
       "    }\n",
       "\n",
       "    .dataframe thead th {\n",
       "        text-align: right;\n",
       "    }\n",
       "</style>\n",
       "<table border=\"1\" class=\"dataframe\">\n",
       "  <thead>\n",
       "    <tr style=\"text-align: right;\">\n",
       "      <th></th>\n",
       "      <th>都道府県コード</th>\n",
       "      <th>都道府県名</th>\n",
       "      <th>元号</th>\n",
       "      <th>和暦（年）</th>\n",
       "      <th>西暦（年）</th>\n",
       "      <th>人口（総数）</th>\n",
       "      <th>人口（男）</th>\n",
       "      <th>人口（女）</th>\n",
       "    </tr>\n",
       "  </thead>\n",
       "  <tbody>\n",
       "    <tr>\n",
       "      <th>0</th>\n",
       "      <td>1</td>\n",
       "      <td>北海道</td>\n",
       "      <td>大正</td>\n",
       "      <td>9.0</td>\n",
       "      <td>1920.0</td>\n",
       "      <td>2359183</td>\n",
       "      <td>1244322</td>\n",
       "      <td>1114861</td>\n",
       "    </tr>\n",
       "    <tr>\n",
       "      <th>1</th>\n",
       "      <td>2</td>\n",
       "      <td>青森県</td>\n",
       "      <td>大正</td>\n",
       "      <td>9.0</td>\n",
       "      <td>1920.0</td>\n",
       "      <td>756454</td>\n",
       "      <td>381293</td>\n",
       "      <td>375161</td>\n",
       "    </tr>\n",
       "    <tr>\n",
       "      <th>2</th>\n",
       "      <td>3</td>\n",
       "      <td>岩手県</td>\n",
       "      <td>大正</td>\n",
       "      <td>9.0</td>\n",
       "      <td>1920.0</td>\n",
       "      <td>845540</td>\n",
       "      <td>421069</td>\n",
       "      <td>424471</td>\n",
       "    </tr>\n",
       "    <tr>\n",
       "      <th>3</th>\n",
       "      <td>4</td>\n",
       "      <td>宮城県</td>\n",
       "      <td>大正</td>\n",
       "      <td>9.0</td>\n",
       "      <td>1920.0</td>\n",
       "      <td>961768</td>\n",
       "      <td>485309</td>\n",
       "      <td>476459</td>\n",
       "    </tr>\n",
       "    <tr>\n",
       "      <th>4</th>\n",
       "      <td>5</td>\n",
       "      <td>秋田県</td>\n",
       "      <td>大正</td>\n",
       "      <td>9.0</td>\n",
       "      <td>1920.0</td>\n",
       "      <td>898537</td>\n",
       "      <td>453682</td>\n",
       "      <td>444855</td>\n",
       "    </tr>\n",
       "    <tr>\n",
       "      <th>5</th>\n",
       "      <td>6</td>\n",
       "      <td>山形県</td>\n",
       "      <td>大正</td>\n",
       "      <td>9.0</td>\n",
       "      <td>1920.0</td>\n",
       "      <td>968925</td>\n",
       "      <td>478328</td>\n",
       "      <td>490597</td>\n",
       "    </tr>\n",
       "    <tr>\n",
       "      <th>6</th>\n",
       "      <td>7</td>\n",
       "      <td>福島県</td>\n",
       "      <td>大正</td>\n",
       "      <td>9.0</td>\n",
       "      <td>1920.0</td>\n",
       "      <td>1362750</td>\n",
       "      <td>673525</td>\n",
       "      <td>689225</td>\n",
       "    </tr>\n",
       "    <tr>\n",
       "      <th>7</th>\n",
       "      <td>8</td>\n",
       "      <td>茨城県</td>\n",
       "      <td>大正</td>\n",
       "      <td>9.0</td>\n",
       "      <td>1920.0</td>\n",
       "      <td>1350400</td>\n",
       "      <td>662128</td>\n",
       "      <td>688272</td>\n",
       "    </tr>\n",
       "    <tr>\n",
       "      <th>8</th>\n",
       "      <td>9</td>\n",
       "      <td>栃木県</td>\n",
       "      <td>大正</td>\n",
       "      <td>9.0</td>\n",
       "      <td>1920.0</td>\n",
       "      <td>1046479</td>\n",
       "      <td>514255</td>\n",
       "      <td>532224</td>\n",
       "    </tr>\n",
       "    <tr>\n",
       "      <th>9</th>\n",
       "      <td>10</td>\n",
       "      <td>群馬県</td>\n",
       "      <td>大正</td>\n",
       "      <td>9.0</td>\n",
       "      <td>1920.0</td>\n",
       "      <td>1052610</td>\n",
       "      <td>514106</td>\n",
       "      <td>538504</td>\n",
       "    </tr>\n",
       "  </tbody>\n",
       "</table>\n",
       "</div>"
      ],
      "text/plain": [
       "   都道府県コード 都道府県名  元号  和暦（年）   西暦（年）   人口（総数）    人口（男）    人口（女）\n",
       "0        1   北海道  大正    9.0  1920.0  2359183  1244322  1114861\n",
       "1        2   青森県  大正    9.0  1920.0   756454   381293   375161\n",
       "2        3   岩手県  大正    9.0  1920.0   845540   421069   424471\n",
       "3        4   宮城県  大正    9.0  1920.0   961768   485309   476459\n",
       "4        5   秋田県  大正    9.0  1920.0   898537   453682   444855\n",
       "5        6   山形県  大正    9.0  1920.0   968925   478328   490597\n",
       "6        7   福島県  大正    9.0  1920.0  1362750   673525   689225\n",
       "7        8   茨城県  大正    9.0  1920.0  1350400   662128   688272\n",
       "8        9   栃木県  大正    9.0  1920.0  1046479   514255   532224\n",
       "9       10   群馬県  大正    9.0  1920.0  1052610   514106   538504"
      ]
     },
     "execution_count": 12,
     "metadata": {},
     "output_type": "execute_result"
    }
   ],
   "source": [
    "df.head(10)"
   ]
  },
  {
   "cell_type": "code",
   "execution_count": 23,
   "id": "dd9e1585-6435-4cd1-924d-4de3a401b47b",
   "metadata": {},
   "outputs": [
    {
     "data": {
      "text/plain": [
       "都道府県コード         10\n",
       "都道府県名          群馬県\n",
       "元号              大正\n",
       "和暦（年）          9.0\n",
       "西暦（年）       1920.0\n",
       "人口（総数）     1052610\n",
       "人口（男）       514106\n",
       "人口（女）       538504\n",
       "Name: 9, dtype: object"
      ]
     },
     "execution_count": 23,
     "metadata": {},
     "output_type": "execute_result"
    }
   ],
   "source": [
    "# dfの中から行のインデックスが「９」のデータ（都道府県が群馬）を取得する\n",
    "df.loc[9]"
   ]
  },
  {
   "cell_type": "markdown",
   "id": "95f72d18-81f8-453c-865a-bb1895aff09e",
   "metadata": {},
   "source": [
    "### ポイント\n",
    "- ```loc[]```の角括弧内には、行、列の順番で指定します。"
   ]
  },
  {
   "cell_type": "code",
   "execution_count": 21,
   "id": "0ba33488-3dca-4ef3-8653-bdfe45d09d71",
   "metadata": {},
   "outputs": [
    {
     "data": {
      "text/plain": [
       "'群馬県'"
      ]
     },
     "execution_count": 21,
     "metadata": {},
     "output_type": "execute_result"
    }
   ],
   "source": [
    "# dfの中から行のインデックスが「9」、カラム名が「都道府県名」のデータを取得する\n",
    "df.loc[9, '都道府県名']"
   ]
  },
  {
   "cell_type": "markdown",
   "id": "5788142f-3080-48b6-99bf-0b3e6bd882e9",
   "metadata": {},
   "source": [
    "- ```loc[]```を使用して列を取得することもできます。\n",
    "- 行にコロンを指定すると「全ての行」を意味します。\n",
    "- 列（カラム）の指定するときに角括弧内にコンマ続きでカラムを指定すると、複数の列を取得することができます。"
   ]
  },
  {
   "cell_type": "code",
   "execution_count": 31,
   "id": "b7bfc7a6-e48c-4613-9978-1d60a0951480",
   "metadata": {},
   "outputs": [
    {
     "data": {
      "text/html": [
       "<div>\n",
       "<style scoped>\n",
       "    .dataframe tbody tr th:only-of-type {\n",
       "        vertical-align: middle;\n",
       "    }\n",
       "\n",
       "    .dataframe tbody tr th {\n",
       "        vertical-align: top;\n",
       "    }\n",
       "\n",
       "    .dataframe thead th {\n",
       "        text-align: right;\n",
       "    }\n",
       "</style>\n",
       "<table border=\"1\" class=\"dataframe\">\n",
       "  <thead>\n",
       "    <tr style=\"text-align: right;\">\n",
       "      <th></th>\n",
       "      <th>人口（総数）</th>\n",
       "      <th>人口（男）</th>\n",
       "      <th>人口（女）</th>\n",
       "    </tr>\n",
       "  </thead>\n",
       "  <tbody>\n",
       "    <tr>\n",
       "      <th>0</th>\n",
       "      <td>2359183</td>\n",
       "      <td>1244322</td>\n",
       "      <td>1114861</td>\n",
       "    </tr>\n",
       "    <tr>\n",
       "      <th>1</th>\n",
       "      <td>756454</td>\n",
       "      <td>381293</td>\n",
       "      <td>375161</td>\n",
       "    </tr>\n",
       "    <tr>\n",
       "      <th>2</th>\n",
       "      <td>845540</td>\n",
       "      <td>421069</td>\n",
       "      <td>424471</td>\n",
       "    </tr>\n",
       "    <tr>\n",
       "      <th>3</th>\n",
       "      <td>961768</td>\n",
       "      <td>485309</td>\n",
       "      <td>476459</td>\n",
       "    </tr>\n",
       "    <tr>\n",
       "      <th>4</th>\n",
       "      <td>898537</td>\n",
       "      <td>453682</td>\n",
       "      <td>444855</td>\n",
       "    </tr>\n",
       "    <tr>\n",
       "      <th>...</th>\n",
       "      <td>...</td>\n",
       "      <td>...</td>\n",
       "      <td>...</td>\n",
       "    </tr>\n",
       "    <tr>\n",
       "      <th>934</th>\n",
       "      <td>1786170</td>\n",
       "      <td>841046</td>\n",
       "      <td>945124</td>\n",
       "    </tr>\n",
       "    <tr>\n",
       "      <th>935</th>\n",
       "      <td>1166338</td>\n",
       "      <td>551932</td>\n",
       "      <td>614406</td>\n",
       "    </tr>\n",
       "    <tr>\n",
       "      <th>936</th>\n",
       "      <td>1104069</td>\n",
       "      <td>519242</td>\n",
       "      <td>584827</td>\n",
       "    </tr>\n",
       "    <tr>\n",
       "      <th>937</th>\n",
       "      <td>1648177</td>\n",
       "      <td>773061</td>\n",
       "      <td>875116</td>\n",
       "    </tr>\n",
       "    <tr>\n",
       "      <th>938</th>\n",
       "      <td>1433566</td>\n",
       "      <td>704619</td>\n",
       "      <td>728947</td>\n",
       "    </tr>\n",
       "  </tbody>\n",
       "</table>\n",
       "<p>939 rows × 3 columns</p>\n",
       "</div>"
      ],
      "text/plain": [
       "      人口（総数）    人口（男）    人口（女）\n",
       "0    2359183  1244322  1114861\n",
       "1     756454   381293   375161\n",
       "2     845540   421069   424471\n",
       "3     961768   485309   476459\n",
       "4     898537   453682   444855\n",
       "..       ...      ...      ...\n",
       "934  1786170   841046   945124\n",
       "935  1166338   551932   614406\n",
       "936  1104069   519242   584827\n",
       "937  1648177   773061   875116\n",
       "938  1433566   704619   728947\n",
       "\n",
       "[939 rows x 3 columns]"
      ]
     },
     "execution_count": 31,
     "metadata": {},
     "output_type": "execute_result"
    }
   ],
   "source": [
    "df.loc[:, ['人口（総数）', '人口（男）', '人口（女）']]"
   ]
  },
  {
   "cell_type": "markdown",
   "id": "1674cdf3-1baa-4a51-a8b8-dd27cfbac4db",
   "metadata": {},
   "source": [
    "- 連続する複数の列（カラム）の値を取得する場合、取得したい両端のカラム名をコロンで繋ぐと同様に取得することができます。"
   ]
  },
  {
   "cell_type": "code",
   "execution_count": 32,
   "id": "2ea4f63b-8d54-49b9-b4ea-6575297229c9",
   "metadata": {},
   "outputs": [
    {
     "data": {
      "text/html": [
       "<div>\n",
       "<style scoped>\n",
       "    .dataframe tbody tr th:only-of-type {\n",
       "        vertical-align: middle;\n",
       "    }\n",
       "\n",
       "    .dataframe tbody tr th {\n",
       "        vertical-align: top;\n",
       "    }\n",
       "\n",
       "    .dataframe thead th {\n",
       "        text-align: right;\n",
       "    }\n",
       "</style>\n",
       "<table border=\"1\" class=\"dataframe\">\n",
       "  <thead>\n",
       "    <tr style=\"text-align: right;\">\n",
       "      <th></th>\n",
       "      <th>人口（総数）</th>\n",
       "      <th>人口（男）</th>\n",
       "      <th>人口（女）</th>\n",
       "    </tr>\n",
       "  </thead>\n",
       "  <tbody>\n",
       "    <tr>\n",
       "      <th>0</th>\n",
       "      <td>2359183</td>\n",
       "      <td>1244322</td>\n",
       "      <td>1114861</td>\n",
       "    </tr>\n",
       "    <tr>\n",
       "      <th>1</th>\n",
       "      <td>756454</td>\n",
       "      <td>381293</td>\n",
       "      <td>375161</td>\n",
       "    </tr>\n",
       "    <tr>\n",
       "      <th>2</th>\n",
       "      <td>845540</td>\n",
       "      <td>421069</td>\n",
       "      <td>424471</td>\n",
       "    </tr>\n",
       "    <tr>\n",
       "      <th>3</th>\n",
       "      <td>961768</td>\n",
       "      <td>485309</td>\n",
       "      <td>476459</td>\n",
       "    </tr>\n",
       "    <tr>\n",
       "      <th>4</th>\n",
       "      <td>898537</td>\n",
       "      <td>453682</td>\n",
       "      <td>444855</td>\n",
       "    </tr>\n",
       "    <tr>\n",
       "      <th>...</th>\n",
       "      <td>...</td>\n",
       "      <td>...</td>\n",
       "      <td>...</td>\n",
       "    </tr>\n",
       "    <tr>\n",
       "      <th>934</th>\n",
       "      <td>1786170</td>\n",
       "      <td>841046</td>\n",
       "      <td>945124</td>\n",
       "    </tr>\n",
       "    <tr>\n",
       "      <th>935</th>\n",
       "      <td>1166338</td>\n",
       "      <td>551932</td>\n",
       "      <td>614406</td>\n",
       "    </tr>\n",
       "    <tr>\n",
       "      <th>936</th>\n",
       "      <td>1104069</td>\n",
       "      <td>519242</td>\n",
       "      <td>584827</td>\n",
       "    </tr>\n",
       "    <tr>\n",
       "      <th>937</th>\n",
       "      <td>1648177</td>\n",
       "      <td>773061</td>\n",
       "      <td>875116</td>\n",
       "    </tr>\n",
       "    <tr>\n",
       "      <th>938</th>\n",
       "      <td>1433566</td>\n",
       "      <td>704619</td>\n",
       "      <td>728947</td>\n",
       "    </tr>\n",
       "  </tbody>\n",
       "</table>\n",
       "<p>939 rows × 3 columns</p>\n",
       "</div>"
      ],
      "text/plain": [
       "      人口（総数）    人口（男）    人口（女）\n",
       "0    2359183  1244322  1114861\n",
       "1     756454   381293   375161\n",
       "2     845540   421069   424471\n",
       "3     961768   485309   476459\n",
       "4     898537   453682   444855\n",
       "..       ...      ...      ...\n",
       "934  1786170   841046   945124\n",
       "935  1166338   551932   614406\n",
       "936  1104069   519242   584827\n",
       "937  1648177   773061   875116\n",
       "938  1433566   704619   728947\n",
       "\n",
       "[939 rows x 3 columns]"
      ]
     },
     "execution_count": 32,
     "metadata": {},
     "output_type": "execute_result"
    }
   ],
   "source": [
    "df.loc[:, '人口（総数）':'人口（女）']"
   ]
  },
  {
   "cell_type": "markdown",
   "id": "5b09b29a-21a1-4b01-b7af-832cccc4ed8f",
   "metadata": {},
   "source": [
    "## 列を取得する:iloc()\n",
    "```iloc[]```を使用すると、列（カラム）を列番号で指定することができます。"
   ]
  },
  {
   "cell_type": "code",
   "execution_count": 40,
   "id": "39c27346-26f4-4098-9391-4cedad3f0087",
   "metadata": {},
   "outputs": [
    {
     "data": {
      "text/html": [
       "<div>\n",
       "<style scoped>\n",
       "    .dataframe tbody tr th:only-of-type {\n",
       "        vertical-align: middle;\n",
       "    }\n",
       "\n",
       "    .dataframe tbody tr th {\n",
       "        vertical-align: top;\n",
       "    }\n",
       "\n",
       "    .dataframe thead th {\n",
       "        text-align: right;\n",
       "    }\n",
       "</style>\n",
       "<table border=\"1\" class=\"dataframe\">\n",
       "  <thead>\n",
       "    <tr style=\"text-align: right;\">\n",
       "      <th></th>\n",
       "      <th>人口（総数）</th>\n",
       "      <th>人口（男）</th>\n",
       "      <th>人口（女）</th>\n",
       "    </tr>\n",
       "  </thead>\n",
       "  <tbody>\n",
       "    <tr>\n",
       "      <th>0</th>\n",
       "      <td>2359183</td>\n",
       "      <td>1244322</td>\n",
       "      <td>1114861</td>\n",
       "    </tr>\n",
       "    <tr>\n",
       "      <th>1</th>\n",
       "      <td>756454</td>\n",
       "      <td>381293</td>\n",
       "      <td>375161</td>\n",
       "    </tr>\n",
       "    <tr>\n",
       "      <th>2</th>\n",
       "      <td>845540</td>\n",
       "      <td>421069</td>\n",
       "      <td>424471</td>\n",
       "    </tr>\n",
       "    <tr>\n",
       "      <th>3</th>\n",
       "      <td>961768</td>\n",
       "      <td>485309</td>\n",
       "      <td>476459</td>\n",
       "    </tr>\n",
       "    <tr>\n",
       "      <th>4</th>\n",
       "      <td>898537</td>\n",
       "      <td>453682</td>\n",
       "      <td>444855</td>\n",
       "    </tr>\n",
       "    <tr>\n",
       "      <th>...</th>\n",
       "      <td>...</td>\n",
       "      <td>...</td>\n",
       "      <td>...</td>\n",
       "    </tr>\n",
       "    <tr>\n",
       "      <th>934</th>\n",
       "      <td>1786170</td>\n",
       "      <td>841046</td>\n",
       "      <td>945124</td>\n",
       "    </tr>\n",
       "    <tr>\n",
       "      <th>935</th>\n",
       "      <td>1166338</td>\n",
       "      <td>551932</td>\n",
       "      <td>614406</td>\n",
       "    </tr>\n",
       "    <tr>\n",
       "      <th>936</th>\n",
       "      <td>1104069</td>\n",
       "      <td>519242</td>\n",
       "      <td>584827</td>\n",
       "    </tr>\n",
       "    <tr>\n",
       "      <th>937</th>\n",
       "      <td>1648177</td>\n",
       "      <td>773061</td>\n",
       "      <td>875116</td>\n",
       "    </tr>\n",
       "    <tr>\n",
       "      <th>938</th>\n",
       "      <td>1433566</td>\n",
       "      <td>704619</td>\n",
       "      <td>728947</td>\n",
       "    </tr>\n",
       "  </tbody>\n",
       "</table>\n",
       "<p>939 rows × 3 columns</p>\n",
       "</div>"
      ],
      "text/plain": [
       "      人口（総数）    人口（男）    人口（女）\n",
       "0    2359183  1244322  1114861\n",
       "1     756454   381293   375161\n",
       "2     845540   421069   424471\n",
       "3     961768   485309   476459\n",
       "4     898537   453682   444855\n",
       "..       ...      ...      ...\n",
       "934  1786170   841046   945124\n",
       "935  1166338   551932   614406\n",
       "936  1104069   519242   584827\n",
       "937  1648177   773061   875116\n",
       "938  1433566   704619   728947\n",
       "\n",
       "[939 rows x 3 columns]"
      ]
     },
     "execution_count": 40,
     "metadata": {},
     "output_type": "execute_result"
    }
   ],
   "source": [
    "# 人口（総数）の列番号は「5」、人口（女）の列番号は「7」のため、「5:8（7+1）」と列番号を指定する\n",
    "df.iloc[:, 5:8]"
   ]
  },
  {
   "cell_type": "markdown",
   "id": "018a47e6-634c-45a9-b4ab-d3dff5d6c26d",
   "metadata": {},
   "source": [
    "### ポイント\n",
    "- 列番号は「0」から始まります。\n",
    "- 連続する複数の列（カラム）の値を取得する場合、カラム名の代わりに列番号をコンマで繋ぎます。\n",
    "- ただし、コンマの後ろの列番号の手前までを取得するため、「+1」した列番号を指定します。\n",
    "- 列番号を取得するには、```columns.get_loc()```を使用します。"
   ]
  },
  {
   "cell_type": "code",
   "execution_count": 52,
   "id": "f0bf5f7f-9c34-437a-a17d-66a7216937e7",
   "metadata": {},
   "outputs": [
    {
     "data": {
      "text/plain": [
       "5"
      ]
     },
     "execution_count": 52,
     "metadata": {},
     "output_type": "execute_result"
    }
   ],
   "source": [
    "df.columns.get_loc('人口（総数）')"
   ]
  },
  {
   "cell_type": "code",
   "execution_count": null,
   "id": "638e9b05-0080-4d9e-83e3-4e7502d945c3",
   "metadata": {},
   "outputs": [],
   "source": []
  }
 ],
 "metadata": {
  "kernelspec": {
   "display_name": "Python 3 (ipykernel)",
   "language": "python",
   "name": "python3"
  },
  "language_info": {
   "codemirror_mode": {
    "name": "ipython",
    "version": 3
   },
   "file_extension": ".py",
   "mimetype": "text/x-python",
   "name": "python",
   "nbconvert_exporter": "python",
   "pygments_lexer": "ipython3",
   "version": "3.9.7"
  }
 },
 "nbformat": 4,
 "nbformat_minor": 5
}
