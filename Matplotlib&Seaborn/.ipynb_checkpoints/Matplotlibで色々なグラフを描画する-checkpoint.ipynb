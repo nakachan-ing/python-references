{
 "cells": [
  {
   "cell_type": "markdown",
   "id": "9e5e3b91-8bd2-4405-99d5-5db3f29c1107",
   "metadata": {},
   "source": [
    "## グラフの種類と利用用途\n",
    "\n",
    "統計では得られた結果を、その目的に合わせて上手に使うことが重要です\n",
    "\n",
    "自分が伝えたい目的に応じて、適切なグラフを使うことにより、説明力が高まります。\n",
    "\n",
    "グラフの種類と利用用途については次のURLが参考になると思います。\n",
    "\n",
    "https://www.stat.go.jp/teacher/graph.html"
   ]
  },
  {
   "cell_type": "markdown",
   "id": "dee0db91-f205-40a9-83be-dbae30398bb9",
   "metadata": {
    "tags": []
   },
   "source": [
    "今回は、次のグラフについて紹介します。\n",
    "\n",
    "| 種類         | 利用用途                       | 利用シーンの例         | \n",
    "| ------------ | ------------------------------ | ---------------------- | \n",
    "| 棒グラフ     | データ間の数量の大きさの比較   | 部門別の売上の比較     | \n",
    "| 散布図       | 2種類のデータの相関の確認      | 商品の売上と気温の関係 | \n",
    "| ヒストグラム | データのばらつき（分布）の確認 | 製品の品質の確認       | \n",
    "| 箱ひげ図     | データのばらつき（分布）の確認 | 製品の品質の確認       | "
   ]
  },
  {
   "cell_type": "markdown",
   "id": "03045697-6bcf-42a2-bf7c-1ab551eb853c",
   "metadata": {},
   "source": [
    "## Matplotlibをインポート\n",
    "\n",
    "matplotlibの中のpyplotを読み込みます。\n",
    "\n",
    "また、Jupyter Notebook内にグラフを出力させるために`%matplotlib inline`を記述します。\n",
    "\n",
    "日本語に対応できるようにjapanize_matplotlibも読み込みます。"
   ]
  },
  {
   "cell_type": "code",
   "execution_count": 2,
   "id": "f1c44316-eb48-4b1b-b6e1-6aa6d468391b",
   "metadata": {},
   "outputs": [],
   "source": [
    "import matplotlib.pyplot as plt\n",
    "%matplotlib inline\n",
    "import japanize_matplotlib"
   ]
  },
  {
   "cell_type": "markdown",
   "id": "fd5610da-3c42-4c7a-8c6a-583017b79c45",
   "metadata": {},
   "source": [
    "## 使用するデータを読み込む\n",
    "\n",
    "Pythonライブラリである「Pandas」をインポートしてcsvファイルをDataFrameとして読み込みます。"
   ]
  },
  {
   "cell_type": "code",
   "execution_count": 3,
   "id": "6a16d577-7e88-4225-8a5c-7672ae82e1f7",
   "metadata": {},
   "outputs": [],
   "source": [
    "import pandas as pd"
   ]
  },
  {
   "cell_type": "markdown",
   "id": "dabcdc8c-7927-47c7-8f34-769b4b12a199",
   "metadata": {},
   "source": [
    "## 棒グラフを作成する | bar/barh\n",
    "\n",
    "`plt.bar()`の引数にX軸とY軸とするカラムを指定します。\n",
    "\n",
    "`plt.show()`とすることで、グラフを表示します。\n",
    "\n",
    "使用するデータは、「1920年から2015年までの全国の人口推移のデータ」とします。"
   ]
  },
  {
   "cell_type": "markdown",
   "id": "4268f291-9a9d-4a58-bed2-bf762423f9da",
   "metadata": {},
   "source": [
    "私のGitHubに「data.csv」としてアップロードしてあるので、下記コマンドでダウンロードすれば簡単に準備できます。\n",
    "\n",
    "```Shell\n",
    "$ curl https://raw.githubusercontent.com/nakachan-ing/python-references/master/Pandas/data.csv -O\n",
    "```"
   ]
  },
  {
   "cell_type": "code",
   "execution_count": 4,
   "id": "b395cac8-926a-45e2-a347-0f5f92eab544",
   "metadata": {},
   "outputs": [
    {
     "data": {
      "text/html": [
       "<div>\n",
       "<style scoped>\n",
       "    .dataframe tbody tr th:only-of-type {\n",
       "        vertical-align: middle;\n",
       "    }\n",
       "\n",
       "    .dataframe tbody tr th {\n",
       "        vertical-align: top;\n",
       "    }\n",
       "\n",
       "    .dataframe thead th {\n",
       "        text-align: right;\n",
       "    }\n",
       "</style>\n",
       "<table border=\"1\" class=\"dataframe\">\n",
       "  <thead>\n",
       "    <tr style=\"text-align: right;\">\n",
       "      <th></th>\n",
       "      <th>都道府県コード</th>\n",
       "      <th>都道府県名</th>\n",
       "      <th>元号</th>\n",
       "      <th>和暦（年）</th>\n",
       "      <th>西暦（年）</th>\n",
       "      <th>人口（総数）</th>\n",
       "      <th>人口（男）</th>\n",
       "      <th>人口（女）</th>\n",
       "    </tr>\n",
       "  </thead>\n",
       "  <tbody>\n",
       "    <tr>\n",
       "      <th>0</th>\n",
       "      <td>1</td>\n",
       "      <td>北海道</td>\n",
       "      <td>大正</td>\n",
       "      <td>9.0</td>\n",
       "      <td>1920.0</td>\n",
       "      <td>2359183</td>\n",
       "      <td>1244322</td>\n",
       "      <td>1114861</td>\n",
       "    </tr>\n",
       "    <tr>\n",
       "      <th>1</th>\n",
       "      <td>2</td>\n",
       "      <td>青森県</td>\n",
       "      <td>大正</td>\n",
       "      <td>9.0</td>\n",
       "      <td>1920.0</td>\n",
       "      <td>756454</td>\n",
       "      <td>381293</td>\n",
       "      <td>375161</td>\n",
       "    </tr>\n",
       "    <tr>\n",
       "      <th>2</th>\n",
       "      <td>3</td>\n",
       "      <td>岩手県</td>\n",
       "      <td>大正</td>\n",
       "      <td>9.0</td>\n",
       "      <td>1920.0</td>\n",
       "      <td>845540</td>\n",
       "      <td>421069</td>\n",
       "      <td>424471</td>\n",
       "    </tr>\n",
       "    <tr>\n",
       "      <th>3</th>\n",
       "      <td>4</td>\n",
       "      <td>宮城県</td>\n",
       "      <td>大正</td>\n",
       "      <td>9.0</td>\n",
       "      <td>1920.0</td>\n",
       "      <td>961768</td>\n",
       "      <td>485309</td>\n",
       "      <td>476459</td>\n",
       "    </tr>\n",
       "    <tr>\n",
       "      <th>4</th>\n",
       "      <td>5</td>\n",
       "      <td>秋田県</td>\n",
       "      <td>大正</td>\n",
       "      <td>9.0</td>\n",
       "      <td>1920.0</td>\n",
       "      <td>898537</td>\n",
       "      <td>453682</td>\n",
       "      <td>444855</td>\n",
       "    </tr>\n",
       "  </tbody>\n",
       "</table>\n",
       "</div>"
      ],
      "text/plain": [
       "   都道府県コード 都道府県名  元号  和暦（年）   西暦（年）   人口（総数）    人口（男）    人口（女）\n",
       "0        1   北海道  大正    9.0  1920.0  2359183  1244322  1114861\n",
       "1        2   青森県  大正    9.0  1920.0   756454   381293   375161\n",
       "2        3   岩手県  大正    9.0  1920.0   845540   421069   424471\n",
       "3        4   宮城県  大正    9.0  1920.0   961768   485309   476459\n",
       "4        5   秋田県  大正    9.0  1920.0   898537   453682   444855"
      ]
     },
     "execution_count": 4,
     "metadata": {},
     "output_type": "execute_result"
    }
   ],
   "source": [
    "df = pd.read_csv('data.csv', encoding='shift-jis')\n",
    "df.head()"
   ]
  },
  {
   "cell_type": "markdown",
   "id": "f2443916-72f8-4c3a-b0f5-c00df2ec8a91",
   "metadata": {},
   "source": [
    "「平成27年」の各都道府県の「人口（総数）」を抽出して、新たなDataFrameにします。\n",
    "\n",
    "X軸に「都道府県名」、Y軸に「人口（総数）」を指定して、各都道府県の人口（総数）をグラフにしてみます。"
   ]
  },
  {
   "cell_type": "code",
   "execution_count": 5,
   "id": "e80eff69-15fe-447b-b43e-643de2e1891b",
   "metadata": {},
   "outputs": [
    {
     "data": {
      "text/html": [
       "<div>\n",
       "<style scoped>\n",
       "    .dataframe tbody tr th:only-of-type {\n",
       "        vertical-align: middle;\n",
       "    }\n",
       "\n",
       "    .dataframe tbody tr th {\n",
       "        vertical-align: top;\n",
       "    }\n",
       "\n",
       "    .dataframe thead th {\n",
       "        text-align: right;\n",
       "    }\n",
       "</style>\n",
       "<table border=\"1\" class=\"dataframe\">\n",
       "  <thead>\n",
       "    <tr style=\"text-align: right;\">\n",
       "      <th></th>\n",
       "      <th>都道府県コード</th>\n",
       "      <th>都道府県名</th>\n",
       "      <th>元号</th>\n",
       "      <th>和暦（年）</th>\n",
       "      <th>西暦（年）</th>\n",
       "      <th>人口（総数）</th>\n",
       "      <th>人口（男）</th>\n",
       "      <th>人口（女）</th>\n",
       "    </tr>\n",
       "  </thead>\n",
       "  <tbody>\n",
       "    <tr>\n",
       "      <th>892</th>\n",
       "      <td>1</td>\n",
       "      <td>北海道</td>\n",
       "      <td>平成</td>\n",
       "      <td>27.0</td>\n",
       "      <td>2015.0</td>\n",
       "      <td>5381733</td>\n",
       "      <td>2537089</td>\n",
       "      <td>2844644</td>\n",
       "    </tr>\n",
       "    <tr>\n",
       "      <th>893</th>\n",
       "      <td>2</td>\n",
       "      <td>青森県</td>\n",
       "      <td>平成</td>\n",
       "      <td>27.0</td>\n",
       "      <td>2015.0</td>\n",
       "      <td>1308265</td>\n",
       "      <td>614694</td>\n",
       "      <td>693571</td>\n",
       "    </tr>\n",
       "    <tr>\n",
       "      <th>894</th>\n",
       "      <td>3</td>\n",
       "      <td>岩手県</td>\n",
       "      <td>平成</td>\n",
       "      <td>27.0</td>\n",
       "      <td>2015.0</td>\n",
       "      <td>1279594</td>\n",
       "      <td>615584</td>\n",
       "      <td>664010</td>\n",
       "    </tr>\n",
       "    <tr>\n",
       "      <th>895</th>\n",
       "      <td>4</td>\n",
       "      <td>宮城県</td>\n",
       "      <td>平成</td>\n",
       "      <td>27.0</td>\n",
       "      <td>2015.0</td>\n",
       "      <td>2333899</td>\n",
       "      <td>1140167</td>\n",
       "      <td>1193732</td>\n",
       "    </tr>\n",
       "    <tr>\n",
       "      <th>896</th>\n",
       "      <td>5</td>\n",
       "      <td>秋田県</td>\n",
       "      <td>平成</td>\n",
       "      <td>27.0</td>\n",
       "      <td>2015.0</td>\n",
       "      <td>1023119</td>\n",
       "      <td>480336</td>\n",
       "      <td>542783</td>\n",
       "    </tr>\n",
       "    <tr>\n",
       "      <th>897</th>\n",
       "      <td>6</td>\n",
       "      <td>山形県</td>\n",
       "      <td>平成</td>\n",
       "      <td>27.0</td>\n",
       "      <td>2015.0</td>\n",
       "      <td>1123891</td>\n",
       "      <td>540226</td>\n",
       "      <td>583665</td>\n",
       "    </tr>\n",
       "    <tr>\n",
       "      <th>898</th>\n",
       "      <td>7</td>\n",
       "      <td>福島県</td>\n",
       "      <td>平成</td>\n",
       "      <td>27.0</td>\n",
       "      <td>2015.0</td>\n",
       "      <td>1914039</td>\n",
       "      <td>945660</td>\n",
       "      <td>968379</td>\n",
       "    </tr>\n",
       "    <tr>\n",
       "      <th>899</th>\n",
       "      <td>8</td>\n",
       "      <td>茨城県</td>\n",
       "      <td>平成</td>\n",
       "      <td>27.0</td>\n",
       "      <td>2015.0</td>\n",
       "      <td>2916976</td>\n",
       "      <td>1453594</td>\n",
       "      <td>1463382</td>\n",
       "    </tr>\n",
       "    <tr>\n",
       "      <th>900</th>\n",
       "      <td>9</td>\n",
       "      <td>栃木県</td>\n",
       "      <td>平成</td>\n",
       "      <td>27.0</td>\n",
       "      <td>2015.0</td>\n",
       "      <td>1974255</td>\n",
       "      <td>981626</td>\n",
       "      <td>992629</td>\n",
       "    </tr>\n",
       "    <tr>\n",
       "      <th>901</th>\n",
       "      <td>10</td>\n",
       "      <td>群馬県</td>\n",
       "      <td>平成</td>\n",
       "      <td>27.0</td>\n",
       "      <td>2015.0</td>\n",
       "      <td>1973115</td>\n",
       "      <td>973283</td>\n",
       "      <td>999832</td>\n",
       "    </tr>\n",
       "  </tbody>\n",
       "</table>\n",
       "</div>"
      ],
      "text/plain": [
       "     都道府県コード 都道府県名  元号  和暦（年）   西暦（年）   人口（総数）    人口（男）    人口（女）\n",
       "892        1   北海道  平成   27.0  2015.0  5381733  2537089  2844644\n",
       "893        2   青森県  平成   27.0  2015.0  1308265   614694   693571\n",
       "894        3   岩手県  平成   27.0  2015.0  1279594   615584   664010\n",
       "895        4   宮城県  平成   27.0  2015.0  2333899  1140167  1193732\n",
       "896        5   秋田県  平成   27.0  2015.0  1023119   480336   542783\n",
       "897        6   山形県  平成   27.0  2015.0  1123891   540226   583665\n",
       "898        7   福島県  平成   27.0  2015.0  1914039   945660   968379\n",
       "899        8   茨城県  平成   27.0  2015.0  2916976  1453594  1463382\n",
       "900        9   栃木県  平成   27.0  2015.0  1974255   981626   992629\n",
       "901       10   群馬県  平成   27.0  2015.0  1973115   973283   999832"
      ]
     },
     "execution_count": 5,
     "metadata": {},
     "output_type": "execute_result"
    }
   ],
   "source": [
    "df_bar = df[df['西暦（年）']==2015.0]\n",
    "df_bar.head(10)"
   ]
  },
  {
   "cell_type": "code",
   "execution_count": 6,
   "id": "8dcd610d-f38c-4678-9625-bb466c0f6f70",
   "metadata": {},
   "outputs": [
    {
     "data": {
      "image/png": "[encoded data removed]",
      "text/plain": [
       "<Figure size 1152x720 with 1 Axes>"
      ]
     },
     "metadata": {
      "needs_background": "light"
     },
     "output_type": "display_data"
    }
   ],
   "source": [
    "x = df_bar['都道府県名']\n",
    "y = df_bar['人口（総数）']\n",
    "\n",
    "plt.figure(figsize=(16,10))\n",
    "plt.bar(x, y)\n",
    "plt.title('2015年の各都道府県の人口比較')\n",
    "plt.xlabel('都道府県名')\n",
    "plt.ylabel('人口（総数）')\n",
    "plt.xticks(rotation=90)\n",
    "plt.show()"
   ]
  },
  {
   "cell_type": "markdown",
   "id": "3aad817f-298b-414b-9af8-316a14bfefdc",
   "metadata": {},
   "source": [
    "**ポイント**\n",
    "\n",
    "- `plt.xticks()`の引数`rotation`に90を指定することで、X軸の都道府県を縦書きにすることが出来ます。\n",
    "- `plt.bar()`の代わりに`plt.barh()`とすることで、横棒グラフにします。"
   ]
  },
  {
   "cell_type": "code",
   "execution_count": 7,
   "id": "197cd5f7-893d-4336-8068-cac679fb55be",
   "metadata": {},
   "outputs": [
    {
     "data": {
      "image/png": "[encoded data removed]",
      "text/plain": [
       "<Figure size 1152x720 with 1 Axes>"
      ]
     },
     "metadata": {
      "needs_background": "light"
     },
     "output_type": "display_data"
    }
   ],
   "source": [
    "plt.figure(figsize=(16,10))\n",
    "plt.barh(x, y)\n",
    "plt.title('2015年の各都道府県の人口比較')\n",
    "plt.xlabel('都道府県名')\n",
    "plt.ylabel('人口（総数）')\n",
    "plt.xticks(rotation=90)\n",
    "plt.show()"
   ]
  },
  {
   "cell_type": "markdown",
   "id": "b23d944e-d553-4689-9abb-e20d77675ebe",
   "metadata": {},
   "source": [
    "## 散布図を作成する | scatter\n",
    "\n",
    "`plt.scatter()`の引数にX軸とY軸とするカラムを指定します。\n",
    "\n",
    "`plt.show()`とすることで、グラフを表示します。\n",
    "\n",
    "使用データは「2021年の東京都豊島区の不動産の取引価格情報」とします。"
   ]
  },
  {
   "cell_type": "markdown",
   "id": "d8c441aa-4e26-4e05-8869-b0c15ab3b630",
   "metadata": {},
   "source": [
    "私のGitHubに「data2.csv」としてアップロードしてあるので、下記コマンドでダウンロードすれば簡単に準備できます。\n",
    "\n",
    "```Shell\n",
    "$ curl https://raw.githubusercontent.com/nakachan-ing/python-references/master/Pandas/data2.csv -O\n",
    "```"
   ]
  },
  {
   "cell_type": "code",
   "execution_count": 8,
   "id": "cd8593cc-4c29-4e10-87e2-1f7a4287cd77",
   "metadata": {},
   "outputs": [
    {
     "data": {
      "text/html": [
       "<div>\n",
       "<style scoped>\n",
       "    .dataframe tbody tr th:only-of-type {\n",
       "        vertical-align: middle;\n",
       "    }\n",
       "\n",
       "    .dataframe tbody tr th {\n",
       "        vertical-align: top;\n",
       "    }\n",
       "\n",
       "    .dataframe thead th {\n",
       "        text-align: right;\n",
       "    }\n",
       "</style>\n",
       "<table border=\"1\" class=\"dataframe\">\n",
       "  <thead>\n",
       "    <tr style=\"text-align: right;\">\n",
       "      <th></th>\n",
       "      <th>種類</th>\n",
       "      <th>地区名</th>\n",
       "      <th>最寄駅</th>\n",
       "      <th>最寄駅からの距離（分）</th>\n",
       "      <th>取引価格（総額）</th>\n",
       "      <th>面積（㎡）</th>\n",
       "      <th>建築年</th>\n",
       "    </tr>\n",
       "  </thead>\n",
       "  <tbody>\n",
       "    <tr>\n",
       "      <th>0</th>\n",
       "      <td>宅地(土地と建物)</td>\n",
       "      <td>池袋</td>\n",
       "      <td>池袋</td>\n",
       "      <td>8</td>\n",
       "      <td>1200000000</td>\n",
       "      <td>440</td>\n",
       "      <td>1997.0</td>\n",
       "    </tr>\n",
       "    <tr>\n",
       "      <th>1</th>\n",
       "      <td>中古マンション等</td>\n",
       "      <td>池袋</td>\n",
       "      <td>池袋</td>\n",
       "      <td>11</td>\n",
       "      <td>18000000</td>\n",
       "      <td>15</td>\n",
       "      <td>1991.0</td>\n",
       "    </tr>\n",
       "    <tr>\n",
       "      <th>2</th>\n",
       "      <td>中古マンション等</td>\n",
       "      <td>池袋</td>\n",
       "      <td>池袋</td>\n",
       "      <td>11</td>\n",
       "      <td>24000000</td>\n",
       "      <td>20</td>\n",
       "      <td>2011.0</td>\n",
       "    </tr>\n",
       "    <tr>\n",
       "      <th>3</th>\n",
       "      <td>中古マンション等</td>\n",
       "      <td>池袋</td>\n",
       "      <td>池袋</td>\n",
       "      <td>11</td>\n",
       "      <td>25000000</td>\n",
       "      <td>30</td>\n",
       "      <td>1991.0</td>\n",
       "    </tr>\n",
       "    <tr>\n",
       "      <th>4</th>\n",
       "      <td>中古マンション等</td>\n",
       "      <td>池袋</td>\n",
       "      <td>池袋</td>\n",
       "      <td>11</td>\n",
       "      <td>24000000</td>\n",
       "      <td>20</td>\n",
       "      <td>2011.0</td>\n",
       "    </tr>\n",
       "  </tbody>\n",
       "</table>\n",
       "</div>"
      ],
      "text/plain": [
       "          種類 地区名 最寄駅  最寄駅からの距離（分）    取引価格（総額）  面積（㎡）     建築年\n",
       "0  宅地(土地と建物)  池袋  池袋            8  1200000000    440  1997.0\n",
       "1   中古マンション等  池袋  池袋           11    18000000     15  1991.0\n",
       "2   中古マンション等  池袋  池袋           11    24000000     20  2011.0\n",
       "3   中古マンション等  池袋  池袋           11    25000000     30  1991.0\n",
       "4   中古マンション等  池袋  池袋           11    24000000     20  2011.0"
      ]
     },
     "execution_count": 8,
     "metadata": {},
     "output_type": "execute_result"
    }
   ],
   "source": [
    "df_house = pd.read_csv('data2.csv', encoding='utf-8', index_col=0)\n",
    "df_house.head()"
   ]
  },
  {
   "cell_type": "markdown",
   "id": "55ca053b-9ca8-49f3-94a7-cecdffb2fdc9",
   "metadata": {},
   "source": [
    "「面積（㎡）」が広いほど、「取引価格（総額）」が高くなるのか、散布図にしてみます。"
   ]
  },
  {
   "cell_type": "code",
   "execution_count": 9,
   "id": "626123d1-87aa-474e-a4ae-643e6ea08147",
   "metadata": {},
   "outputs": [
    {
     "data": {
      "image/png": "[encoded data removed]",
      "text/plain": [
       "<Figure size 1152x720 with 1 Axes>"
      ]
     },
     "metadata": {
      "needs_background": "light"
     },
     "output_type": "display_data"
    }
   ],
   "source": [
    "x = df_house['面積（㎡）']\n",
    "y = df_house['取引価格（総額）']\n",
    "\n",
    "plt.figure(figsize=(16,10))\n",
    "plt.scatter(x, y)\n",
    "plt.xlabel('面積（㎡）')\n",
    "plt.ylabel('取引価格（総額）')\n",
    "plt.title('面積と取引価格の相関')\n",
    "plt.show()"
   ]
  },
  {
   "cell_type": "markdown",
   "id": "229db3c5-ed0e-46ea-be19-72ea4004483a",
   "metadata": {},
   "source": [
    "面積に開きがあまりがみられませんが、面積が広いと取引価格が高いことは見て分かります。"
   ]
  },
  {
   "cell_type": "markdown",
   "id": "5347cc7f-7d80-4689-b19e-ff285d368201",
   "metadata": {},
   "source": [
    "次に「建築年」が新しいほど、「取引価格（総額）」が高くなるのか、散布図にしてみます。"
   ]
  },
  {
   "cell_type": "code",
   "execution_count": 10,
   "id": "fa0be68c-e57f-4d73-8cce-654d661721bc",
   "metadata": {},
   "outputs": [
    {
     "data": {
      "image/png": "[encoded data removed]",
      "text/plain": [
       "<Figure size 1152x720 with 1 Axes>"
      ]
     },
     "metadata": {
      "needs_background": "light"
     },
     "output_type": "display_data"
    }
   ],
   "source": [
    "x = df_house['建築年']\n",
    "y = df_house['取引価格（総額）']\n",
    "\n",
    "plt.figure(figsize=(16,10))\n",
    "plt.scatter(x, y)\n",
    "plt.xlabel('建築年')\n",
    "plt.ylabel('取引価格（総額）')\n",
    "plt.title('建築年と取引価格の相関')\n",
    "plt.show()"
   ]
  },
  {
   "cell_type": "markdown",
   "id": "0a9c839e-7be2-429b-9fd3-3dde642f391e",
   "metadata": {},
   "source": [
    "築年数は特に取引価格にあまり影響しないことが分かりますね。"
   ]
  },
  {
   "cell_type": "markdown",
   "id": "2a693304-9987-47aa-890a-4d5669b28e4e",
   "metadata": {},
   "source": [
    "次に、「最寄駅からの距離（分）」が近いほど、取引価格が高くなるのか、散布図にしてみます。"
   ]
  },
  {
   "cell_type": "code",
   "execution_count": 11,
   "id": "5f432bfa-190a-4f19-93a5-abe62c82f158",
   "metadata": {},
   "outputs": [
    {
     "data": {
      "image/png": "[encoded data removed]",
      "text/plain": [
       "<Figure size 1152x720 with 1 Axes>"
      ]
     },
     "metadata": {
      "needs_background": "light"
     },
     "output_type": "display_data"
    }
   ],
   "source": [
    "x = df_house['最寄駅からの距離（分）']\n",
    "y = df_house['取引価格（総額）']\n",
    "\n",
    "plt.figure(figsize=(16,10))\n",
    "plt.scatter(x, y)\n",
    "plt.xlabel('最寄駅からの距離（分）')\n",
    "plt.ylabel('取引価格（総額）')\n",
    "plt.title('最寄駅からの距離と取引価格の相関')\n",
    "plt.show()"
   ]
  },
  {
   "cell_type": "markdown",
   "id": "3776c8b7-6a1e-4fe0-ab73-6f0ec00ad971",
   "metadata": {},
   "source": [
    "築年数と同様に、最寄駅からに距離も特に取引価格にあまり影響しないことが分かりますね。"
   ]
  },
  {
   "cell_type": "markdown",
   "id": "ddcefb7d-dbe2-4642-9ad8-b0d8c1e76033",
   "metadata": {},
   "source": [
    "## ヒストグラムを作成する | hist\n",
    "\n",
    "`plt.hist()`の引数にX軸とするカラムを指定します。\n",
    "\n",
    "`plt.show()`とすることで、グラフを表示します。\n",
    "\n",
    "使用データは「2021年の東京都豊島区の不動産の取引価格情報」とします。\n",
    "\n",
    "X軸に「面積（㎡）」の階級を、Y軸にその階級に含まれるデータの数をとって棒グラフで表します。"
   ]
  },
  {
   "cell_type": "code",
   "execution_count": 40,
   "id": "03e4020b-c33e-4e95-98d3-ea11cbc23bfd",
   "metadata": {},
   "outputs": [
    {
     "data": {
      "text/html": [
       "<div>\n",
       "<style scoped>\n",
       "    .dataframe tbody tr th:only-of-type {\n",
       "        vertical-align: middle;\n",
       "    }\n",
       "\n",
       "    .dataframe tbody tr th {\n",
       "        vertical-align: top;\n",
       "    }\n",
       "\n",
       "    .dataframe thead th {\n",
       "        text-align: right;\n",
       "    }\n",
       "</style>\n",
       "<table border=\"1\" class=\"dataframe\">\n",
       "  <thead>\n",
       "    <tr style=\"text-align: right;\">\n",
       "      <th></th>\n",
       "      <th>種類</th>\n",
       "      <th>地区名</th>\n",
       "      <th>最寄駅</th>\n",
       "      <th>最寄駅からの距離（分）</th>\n",
       "      <th>取引価格（総額）</th>\n",
       "      <th>面積（㎡）</th>\n",
       "      <th>建築年</th>\n",
       "    </tr>\n",
       "  </thead>\n",
       "  <tbody>\n",
       "    <tr>\n",
       "      <th>0</th>\n",
       "      <td>宅地(土地と建物)</td>\n",
       "      <td>池袋</td>\n",
       "      <td>池袋</td>\n",
       "      <td>8</td>\n",
       "      <td>1200000000</td>\n",
       "      <td>440</td>\n",
       "      <td>1997.0</td>\n",
       "    </tr>\n",
       "    <tr>\n",
       "      <th>1</th>\n",
       "      <td>中古マンション等</td>\n",
       "      <td>池袋</td>\n",
       "      <td>池袋</td>\n",
       "      <td>11</td>\n",
       "      <td>18000000</td>\n",
       "      <td>15</td>\n",
       "      <td>1991.0</td>\n",
       "    </tr>\n",
       "    <tr>\n",
       "      <th>2</th>\n",
       "      <td>中古マンション等</td>\n",
       "      <td>池袋</td>\n",
       "      <td>池袋</td>\n",
       "      <td>11</td>\n",
       "      <td>24000000</td>\n",
       "      <td>20</td>\n",
       "      <td>2011.0</td>\n",
       "    </tr>\n",
       "    <tr>\n",
       "      <th>3</th>\n",
       "      <td>中古マンション等</td>\n",
       "      <td>池袋</td>\n",
       "      <td>池袋</td>\n",
       "      <td>11</td>\n",
       "      <td>25000000</td>\n",
       "      <td>30</td>\n",
       "      <td>1991.0</td>\n",
       "    </tr>\n",
       "    <tr>\n",
       "      <th>4</th>\n",
       "      <td>中古マンション等</td>\n",
       "      <td>池袋</td>\n",
       "      <td>池袋</td>\n",
       "      <td>11</td>\n",
       "      <td>24000000</td>\n",
       "      <td>20</td>\n",
       "      <td>2011.0</td>\n",
       "    </tr>\n",
       "  </tbody>\n",
       "</table>\n",
       "</div>"
      ],
      "text/plain": [
       "          種類 地区名 最寄駅  最寄駅からの距離（分）    取引価格（総額）  面積（㎡）     建築年\n",
       "0  宅地(土地と建物)  池袋  池袋            8  1200000000    440  1997.0\n",
       "1   中古マンション等  池袋  池袋           11    18000000     15  1991.0\n",
       "2   中古マンション等  池袋  池袋           11    24000000     20  2011.0\n",
       "3   中古マンション等  池袋  池袋           11    25000000     30  1991.0\n",
       "4   中古マンション等  池袋  池袋           11    24000000     20  2011.0"
      ]
     },
     "execution_count": 40,
     "metadata": {},
     "output_type": "execute_result"
    }
   ],
   "source": [
    "df_house.head()"
   ]
  },
  {
   "cell_type": "code",
   "execution_count": 24,
   "id": "150ce3e7-b7e6-4429-94bb-8b4f95964cf8",
   "metadata": {},
   "outputs": [
    {
     "data": {
      "text/plain": [
       "20    225\n",
       "15     50\n",
       "50     44\n",
       "25     40\n",
       "65     37\n",
       "Name: 面積（㎡）, dtype: int64"
      ]
     },
     "execution_count": 24,
     "metadata": {},
     "output_type": "execute_result"
    }
   ],
   "source": [
    "x = df_house['面積（㎡）']\n",
    "x.value_counts().head()"
   ]
  },
  {
   "cell_type": "code",
   "execution_count": 25,
   "id": "66a101c9-be39-453d-835d-255b79d1ae08",
   "metadata": {},
   "outputs": [
    {
     "data": {
      "image/png": "[encoded data removed]",
      "text/plain": [
       "<Figure size 1152x720 with 1 Axes>"
      ]
     },
     "metadata": {
      "needs_background": "light"
     },
     "output_type": "display_data"
    }
   ],
   "source": [
    "plt.figure(figsize=(16,10))\n",
    "plt.hist(x, bins=50)\n",
    "plt.xlabel('面積')\n",
    "plt.ylabel('不動産数')\n",
    "plt.xticks(rotation=90)\n",
    "plt.title('面積と不動産数')\n",
    "plt.show()"
   ]
  },
  {
   "cell_type": "markdown",
   "id": "3c7e5893-2341-43a7-8de5-b1ea7e542d4b",
   "metadata": {},
   "source": [
    "**ポイント**\n",
    "\n",
    "ヒストグラムを作成する場合は、データの階級に対して含まれるデータ数をグラフにするため「x軸」の指定のみとなります。"
   ]
  },
  {
   "cell_type": "markdown",
   "id": "6474db6f-51d7-44de-ad28-6ce5ffa2286b",
   "metadata": {},
   "source": [
    "## 箱ひげ図を作成する | boxplot\n",
    "\n",
    "`plt.boxplot()`の引数にカラムを指定します。\n",
    "\n",
    "`plt.show()`とすることで、グラフを表示します。\n",
    "\n",
    "一番上の横線を最大値、一番下の横線を最小値、中央の線を中央値といいます。\n",
    "\n",
    "また、箱の両端は、それぞれ上の中央値・下の中央値を示します。\n",
    "\n",
    "なお、丸は外れ値といって、値に含まれません。 \n",
    "\n",
    "使用データは「2021年の東京都豊島区の不動産の取引価格情報」とします。\n",
    "\n",
    "「最寄駅」に対して、「取引価格（総額）」の分布を箱ひげ図にしてみます。\n"
   ]
  },
  {
   "cell_type": "code",
   "execution_count": 69,
   "id": "42538813-82cb-4b2e-9711-0ea13c774bef",
   "metadata": {},
   "outputs": [
    {
     "data": {
      "image/png": "[encoded data removed]",
      "text/plain": [
       "<Figure size 432x288 with 1 Axes>"
      ]
     },
     "metadata": {
      "needs_background": "light"
     },
     "output_type": "display_data"
    }
   ],
   "source": [
    "x1 = df_house[df_house['最寄駅']=='池袋']\n",
    "x2 = df_house[df_house['最寄駅']=='大塚(東京)']\n",
    "x1 =x1['取引価格（総額）']\n",
    "x2 =x2['取引価格（総額）']\n",
    "\n",
    "plt.ylim(10000000, 100000000)\n",
    "\n",
    "plt.boxplot([x1, x2])\n",
    "plt.show()"
   ]
  },
  {
   "cell_type": "markdown",
   "id": "38eab0ba-35bc-4b27-8658-62dd90815cb3",
   "metadata": {},
   "source": [
    "**ポイント**\n",
    "\n",
    "- 箱ひげ図は同一の条件に含まれるデータに対しての範囲を表します。\n",
    "\n",
    "※1日に対する、「始値」、「最高値」、「最安値」、「終値」、など、株価などによく使われます。\n",
    "\n",
    "今回のデータではあまり有効なグラフではなさそうです。"
   ]
  },
  {
   "cell_type": "code",
   "execution_count": null,
   "id": "ac1488ba-a779-42af-8ec3-8ade84837090",
   "metadata": {},
   "outputs": [],
   "source": []
  }
 ],
 "metadata": {
  "kernelspec": {
   "display_name": "Python 3 (ipykernel)",
   "language": "python",
   "name": "python3"
  },
  "language_info": {
   "codemirror_mode": {
    "name": "ipython",
    "version": 3
   },
   "file_extension": ".py",
   "mimetype": "text/x-python",
   "name": "python",
   "nbconvert_exporter": "python",
   "pygments_lexer": "ipython3",
   "version": "3.9.7"
  }
 },
 "nbformat": 4,
 "nbformat_minor": 5
}
