{
 "cells": [
  {
   "cell_type": "markdown",
   "id": "3ccca3f8-253e-49b6-bc5e-7585ffe93fbe",
   "metadata": {},
   "source": [
    "## seaborn.barplotの引数一覧"
   ]
  },
  {
   "cell_type": "markdown",
   "id": "79052a6e-c995-4057-9bff-eaf36be301f9",
   "metadata": {},
   "source": [
    "```Python\n",
    "seaborn.barplot(x=None, y=None, hue=None, data=None, order=None, hue_order=None,\n",
    "                estimator=<function mean>, ci=95, n_boot=1000, units=None,\n",
    "                orient=None, color=None, palette=None, saturation=0.75,\n",
    "                errcolor='.26', errwidth=None, capsize=None, ax=None, **kwargs)\n",
    "```"
   ]
  },
  {
   "cell_type": "markdown",
   "id": "07ddc042-f668-43bc-92c4-c7c98103bd23",
   "metadata": {},
   "source": [
    "| 引数       | 指定する値                                                                                                                                  | \n",
    "| ---------- | ------------------------------------------------------------------------------------------------------------------------------------------- | \n",
    "| x, y       | 集計対象の列名。x に指定した場合縦方向に、y に指定した場合横方向にグラフを描画する。                                                        | \n",
    "| hue        | 各軸をさらに分割して集計する場合に利用する列名を指定。                                                                                      | \n",
    "| data       | 集計対象のデータフレーム。                                                                                                                  | \n",
    "| order      | 出力する順番を文字列のリストで指定。                                                                                                        | \n",
    "| hue_order  | 上記 hue で指定した列を出力する順番を文字列のリストで指定。                                                                                 | \n",
    "| estimator  | (デフォルト値:&nbsp;)                                                                                                                       | \n",
    "| ci         | 信頼区間の幅。None&nbsp;を指定すると、ブートストラップを行わず、エラーバーも出力しない。 (デフォルト値: 95)                                 | \n",
    "| n_boot     | 信頼区間を求めるために行うブートストラップの繰り返し回数。 (デフォルト値: 1000)                                                             | \n",
    "| units      | マルチレベルでブートストラップを行う際にサンプリング単位。data&nbsp;で指定したデータフレームの列名または、配列で指定。 (デフォルト値: None) | \n",
    "| orient     | グラフの向きを指定。”v”(vertical, 垂直) または、”h” (horizontal, 水平) のいずれかを指定。                                               | \n",
    "| color      | 各列の色をリストまたはパレットで指定。                                                                                                      | \n",
    "| palette    | 上記 hue で指定した列の色リストまたはパレットで指定。 (デフォルト値: None)                                                                  | \n",
    "| saturation | 色の彩度。1 に近いほど原色に近く、0 に近いほど白・黒に近い色合いで出力。 (デフォルト値: 0.75)                                               | \n",
    "| errcolor   | 信頼区間を示すバーの色。/td>                                                                                                                | \n",
    "| errwidth   | 信頼区間を示すバーの幅                                                                                                                      | \n",
    "| capsize    | 信頼区間を示すバーの終端の線（キャップ）のサイズ                                                                                            | \n",
    "| ax         | 軸を重ねて出力する場合に指定。                                                                                                              | "
   ]
  },
  {
   "cell_type": "markdown",
   "id": "ffda03ef-20ac-485b-8804-4aec8cba2f9f",
   "metadata": {},
   "source": [
    "## seabornで棒グラフを作成する\n",
    "\n",
    "`seaborn.barplot`は与えられたベクトル (数値で構成される配列) の平均値を高さとして、信頼区間をエラーバーとして出力します。\n",
    "\n",
    "使用するデータは、seabornのライブラリの中から「tips（飲食店のチップの額）」を使用します。"
   ]
  },
  {
   "cell_type": "code",
   "execution_count": 2,
   "id": "ce17a18e-8898-46f1-aef1-b6cb079ce9d8",
   "metadata": {},
   "outputs": [
    {
     "data": {
      "text/html": [
       "<div>\n",
       "<style scoped>\n",
       "    .dataframe tbody tr th:only-of-type {\n",
       "        vertical-align: middle;\n",
       "    }\n",
       "\n",
       "    .dataframe tbody tr th {\n",
       "        vertical-align: top;\n",
       "    }\n",
       "\n",
       "    .dataframe thead th {\n",
       "        text-align: right;\n",
       "    }\n",
       "</style>\n",
       "<table border=\"1\" class=\"dataframe\">\n",
       "  <thead>\n",
       "    <tr style=\"text-align: right;\">\n",
       "      <th></th>\n",
       "      <th>total_bill</th>\n",
       "      <th>tip</th>\n",
       "      <th>sex</th>\n",
       "      <th>smoker</th>\n",
       "      <th>day</th>\n",
       "      <th>time</th>\n",
       "      <th>size</th>\n",
       "    </tr>\n",
       "  </thead>\n",
       "  <tbody>\n",
       "    <tr>\n",
       "      <th>0</th>\n",
       "      <td>16.99</td>\n",
       "      <td>1.01</td>\n",
       "      <td>Female</td>\n",
       "      <td>No</td>\n",
       "      <td>Sun</td>\n",
       "      <td>Dinner</td>\n",
       "      <td>2</td>\n",
       "    </tr>\n",
       "    <tr>\n",
       "      <th>1</th>\n",
       "      <td>10.34</td>\n",
       "      <td>1.66</td>\n",
       "      <td>Male</td>\n",
       "      <td>No</td>\n",
       "      <td>Sun</td>\n",
       "      <td>Dinner</td>\n",
       "      <td>3</td>\n",
       "    </tr>\n",
       "    <tr>\n",
       "      <th>2</th>\n",
       "      <td>21.01</td>\n",
       "      <td>3.50</td>\n",
       "      <td>Male</td>\n",
       "      <td>No</td>\n",
       "      <td>Sun</td>\n",
       "      <td>Dinner</td>\n",
       "      <td>3</td>\n",
       "    </tr>\n",
       "    <tr>\n",
       "      <th>3</th>\n",
       "      <td>23.68</td>\n",
       "      <td>3.31</td>\n",
       "      <td>Male</td>\n",
       "      <td>No</td>\n",
       "      <td>Sun</td>\n",
       "      <td>Dinner</td>\n",
       "      <td>2</td>\n",
       "    </tr>\n",
       "    <tr>\n",
       "      <th>4</th>\n",
       "      <td>24.59</td>\n",
       "      <td>3.61</td>\n",
       "      <td>Female</td>\n",
       "      <td>No</td>\n",
       "      <td>Sun</td>\n",
       "      <td>Dinner</td>\n",
       "      <td>4</td>\n",
       "    </tr>\n",
       "  </tbody>\n",
       "</table>\n",
       "</div>"
      ],
      "text/plain": [
       "   total_bill   tip     sex smoker  day    time  size\n",
       "0       16.99  1.01  Female     No  Sun  Dinner     2\n",
       "1       10.34  1.66    Male     No  Sun  Dinner     3\n",
       "2       21.01  3.50    Male     No  Sun  Dinner     3\n",
       "3       23.68  3.31    Male     No  Sun  Dinner     2\n",
       "4       24.59  3.61  Female     No  Sun  Dinner     4"
      ]
     },
     "execution_count": 2,
     "metadata": {},
     "output_type": "execute_result"
    }
   ],
   "source": [
    "import matplotlib.pyplot as plt\n",
    "import seaborn as sns\n",
    "import japanize_matplotlib\n",
    "%matplotlib inline\n",
    "\n",
    "tips = sns.load_dataset('tips')\n",
    "tips.head()"
   ]
  },
  {
   "cell_type": "markdown",
   "id": "124e6fe0-6569-4769-a504-40f2263900aa",
   "metadata": {},
   "source": [
    "それぞれのカラムは次の情報を表しています。\n",
    "\n",
    "- total_bill : 総支払額(食事代、税込み)　(USドル)\n",
    "- tip : チップ(USドル)\n",
    "- sex : 性別\n",
    "- smoker : 喫煙者か否か\n",
    "- day : 曜日(木・金・土・日のいずれか)\n",
    "- time : 食事の時間(昼食か夕食か)\n",
    "- size : 人数"
   ]
  },
  {
   "cell_type": "markdown",
   "id": "5d25ea08-3ebe-4e02-82e8-654fbc144b43",
   "metadata": {},
   "source": [
    "### X軸とY軸、集計対象のデータを指定して棒グラフを作成する | x, y, data\n",
    "\n",
    "引数`x`に「day」, `y`に「total_bill」, `data`に「tips」を指定して棒グラフを作成します。"
   ]
  },
  {
   "cell_type": "code",
   "execution_count": 3,
   "id": "b7d3341a-1e1a-4d5d-8e07-b13d4302645e",
   "metadata": {},
   "outputs": [
    {
     "data": {
      "text/plain": [
       "<AxesSubplot:xlabel='day', ylabel='total_bill'>"
      ]
     },
     "execution_count": 3,
     "metadata": {},
     "output_type": "execute_result"
    },
    {
     "data": {
      "image/png": "[encoded data removed]",
      "text/plain": [
       "<Figure size 432x288 with 1 Axes>"
      ]
     },
     "metadata": {
      "needs_background": "light"
     },
     "output_type": "display_data"
    }
   ],
   "source": [
    "sns.barplot(x='day', y='total_bill', data=tips)"
   ]
  },
  {
   "cell_type": "markdown",
   "id": "60a5b4f9-a639-4dab-86de-5b5ab610b339",
   "metadata": {},
   "source": [
    "**ポイント**\n",
    "\n",
    "作成された棒グラフの高さは、平均額を表しています。"
   ]
  },
  {
   "cell_type": "markdown",
   "id": "f9cc8028-bf43-4610-9150-9694a665daf2",
   "metadata": {},
   "source": [
    "### 曜日に対する支払総額を「男女別」に棒グラフに出力する | hue\n",
    "\n",
    "引数`hue`に`sex`を指定して、棒グラフを作成します。"
   ]
  },
  {
   "cell_type": "code",
   "execution_count": 17,
   "id": "85dd0acf-1f3d-4fb1-90e4-978ece851cc9",
   "metadata": {},
   "outputs": [
    {
     "data": {
      "text/plain": [
       "<AxesSubplot:xlabel='day', ylabel='total_bill'>"
      ]
     },
     "execution_count": 17,
     "metadata": {},
     "output_type": "execute_result"
    },
    {
     "data": {
      "image/png": "[encoded data removed]",
      "text/plain": [
       "<Figure size 432x288 with 1 Axes>"
      ]
     },
     "metadata": {
      "needs_background": "light"
     },
     "output_type": "display_data"
    }
   ],
   "source": [
    "sns.barplot(x='day', y='total_bill', data=tips, hue='sex')"
   ]
  },
  {
   "cell_type": "markdown",
   "id": "2f0c0799-c6e0-4a97-9117-ed7add846ccb",
   "metadata": {},
   "source": [
    "### 横方向の棒グラフを作成する\n",
    "\n",
    "X軸に数値データの「total_bill」、Y軸に「day」を指定して横方向に棒グラフを作成します。"
   ]
  },
  {
   "cell_type": "code",
   "execution_count": 5,
   "id": "f53c254b-3a07-4a18-9a7d-440df0dccc7e",
   "metadata": {},
   "outputs": [
    {
     "data": {
      "text/plain": [
       "<AxesSubplot:xlabel='total_bill', ylabel='day'>"
      ]
     },
     "execution_count": 5,
     "metadata": {},
     "output_type": "execute_result"
    },
    {
     "data": {
      "image/png": "[encoded data removed]",
      "text/plain": [
       "<Figure size 432x288 with 1 Axes>"
      ]
     },
     "metadata": {
      "needs_background": "light"
     },
     "output_type": "display_data"
    }
   ],
   "source": [
    "sns.barplot(x='total_bill', y='day', data=tips)"
   ]
  },
  {
   "cell_type": "markdown",
   "id": "92af733c-c2b1-4840-8025-175c2813653a",
   "metadata": {},
   "source": [
    "**ポイント**\n",
    "\n",
    "X軸に数値データ、Y軸に離散変数を指定することで横方向の棒グラフを作成することが出来ます。"
   ]
  },
  {
   "cell_type": "markdown",
   "id": "c3897b99-8349-4c8d-8831-b7a216fc7e54",
   "metadata": {
    "tags": []
   },
   "source": [
    "### グラフに出力するX軸の順番を指定する | order\n",
    "\n",
    "引数`x`に「time」、`y`に「tip」を指定して、昼食と夕食ごとのチップ額の平均をグラフにしてみます。"
   ]
  },
  {
   "cell_type": "code",
   "execution_count": 7,
   "id": "5bcfb645-2691-490d-8792-a303e9c7f3bf",
   "metadata": {},
   "outputs": [
    {
     "data": {
      "text/plain": [
       "<AxesSubplot:xlabel='time', ylabel='tip'>"
      ]
     },
     "execution_count": 7,
     "metadata": {},
     "output_type": "execute_result"
    },
    {
     "data": {
      "image/png": "[encoded data removed]",
      "text/plain": [
       "<Figure size 432x288 with 1 Axes>"
      ]
     },
     "metadata": {
      "needs_background": "light"
     },
     "output_type": "display_data"
    }
   ],
   "source": [
    "# 引数orderを指定しない場合\n",
    "sns.barplot(x=\"time\", y=\"tip\", data=tips)"
   ]
  },
  {
   "cell_type": "markdown",
   "id": "47512e5a-dd21-4dbc-83c6-098419069e75",
   "metadata": {},
   "source": [
    "引数`order`にグラフに出力する順番をリストで指定して、棒グラフを作成してみます。"
   ]
  },
  {
   "cell_type": "code",
   "execution_count": 18,
   "id": "c7ffb79f-8033-4401-a0a5-b9d32ba19336",
   "metadata": {},
   "outputs": [
    {
     "data": {
      "text/plain": [
       "<AxesSubplot:xlabel='time', ylabel='tip'>"
      ]
     },
     "execution_count": 18,
     "metadata": {},
     "output_type": "execute_result"
    },
    {
     "data": {
      "image/png": "[encoded data removed]",
      "text/plain": [
       "<Figure size 432x288 with 1 Axes>"
      ]
     },
     "metadata": {
      "needs_background": "light"
     },
     "output_type": "display_data"
    }
   ],
   "source": [
    "# 引数orderを指定する場合\n",
    "sns.barplot(x=\"time\", y=\"tip\", data=tips, order=['Dinner', 'Lunch'])"
   ]
  },
  {
   "cell_type": "markdown",
   "id": "63a61e37-69c3-4f33-b042-8740d8df293c",
   "metadata": {},
   "source": [
    "### 信頼区間を指定して、棒グラフを作成する | ci\n",
    "\n",
    "引数`ci`に信頼区間の数値を％で指定して、棒グラフを作成します。\n",
    "\n",
    "信頼区間はデフォルトでは95%です。"
   ]
  },
  {
   "cell_type": "code",
   "execution_count": 19,
   "id": "ff031f76-c109-4084-bcab-1a93cb8bc1b2",
   "metadata": {},
   "outputs": [
    {
     "data": {
      "text/plain": [
       "<AxesSubplot:xlabel='day', ylabel='total_bill'>"
      ]
     },
     "execution_count": 19,
     "metadata": {},
     "output_type": "execute_result"
    },
    {
     "data": {
      "image/png": "[encoded data removed]",
      "text/plain": [
       "<Figure size 432x288 with 1 Axes>"
      ]
     },
     "metadata": {
      "needs_background": "light"
     },
     "output_type": "display_data"
    }
   ],
   "source": [
    "sns.barplot(x='day', y='total_bill', data=tips, ci=68)"
   ]
  },
  {
   "cell_type": "markdown",
   "id": "4907bc1e-edad-4db1-9c9c-6dba25ecae8e",
   "metadata": {},
   "source": [
    "**ポイント**\n",
    "\n",
    "信頼区間とは、「母集団から標本を取ってきて、その平均からx%信頼区間を求める、という作業を100回やったときに、x回はその区間の中に母平均が含まれる」という「頻度」もしくは「割合」を意味します。"
   ]
  },
  {
   "cell_type": "markdown",
   "id": "d0ab25eb-4796-4640-b900-32a3a9690187",
   "metadata": {},
   "source": [
    "### 信頼区間を示すバーの終端の線（キャップ）のサイズを指定する | capsize"
   ]
  },
  {
   "cell_type": "code",
   "execution_count": 16,
   "id": "6123e299-f90f-4e35-86c1-caa36bcd9558",
   "metadata": {},
   "outputs": [
    {
     "data": {
      "text/plain": [
       "<AxesSubplot:xlabel='day', ylabel='total_bill'>"
      ]
     },
     "execution_count": 16,
     "metadata": {},
     "output_type": "execute_result"
    },
    {
     "data": {
      "image/png": "[encoded data removed]",
      "text/plain": [
       "<Figure size 432x288 with 1 Axes>"
      ]
     },
     "metadata": {
      "needs_background": "light"
     },
     "output_type": "display_data"
    }
   ],
   "source": [
    "sns.barplot(x=\"day\", y=\"total_bill\", data=tips, capsize=0.2)"
   ]
  },
  {
   "cell_type": "markdown",
   "id": "27136e9c-3017-4eb2-a1f5-2a6905baf443",
   "metadata": {},
   "source": [
    "### バーの色を指定する | color\n",
    "\n",
    "引数`color`に色を指定すると、バーの色を統一することが出来ます。"
   ]
  },
  {
   "cell_type": "code",
   "execution_count": 21,
   "id": "379aed6b-6005-4f96-adf7-8328f1a80d5f",
   "metadata": {},
   "outputs": [
    {
     "data": {
      "text/plain": [
       "<AxesSubplot:xlabel='day', ylabel='total_bill'>"
      ]
     },
     "execution_count": 21,
     "metadata": {},
     "output_type": "execute_result"
    },
    {
     "data": {
      "image/png": "[encoded data removed]",
      "text/plain": [
       "<Figure size 432x288 with 1 Axes>"
      ]
     },
     "metadata": {
      "needs_background": "light"
     },
     "output_type": "display_data"
    }
   ],
   "source": [
    "sns.barplot(x=\"day\", y=\"total_bill\", data=tips, color='orange')"
   ]
  },
  {
   "cell_type": "markdown",
   "id": "47123595-5e5e-40e6-95b5-9ae4ff15cdd8",
   "metadata": {},
   "source": [
    "### カラーパレットを使用して棒グラフを作成する | palette\n",
    "\n",
    "引数`palette`にカラーパレットを指定することで、バーの色にグラデーションをつけます。\n",
    "\n",
    "http://seaborn.pydata.org/generated/seaborn.dark_palette.html#seaborn.dark_palette\n",
    "http://seaborn.pydata.org/generated/seaborn.light_palette.html#seaborn.light_palette\n",
    "http://seaborn.pydata.org/generated/seaborn.diverging_palette.html#seaborn.diverging_palette"
   ]
  },
  {
   "cell_type": "code",
   "execution_count": 23,
   "id": "3b4378ce-22c8-45be-b242-55007531096f",
   "metadata": {},
   "outputs": [
    {
     "data": {
      "text/plain": [
       "<AxesSubplot:xlabel='day', ylabel='total_bill'>"
      ]
     },
     "execution_count": 23,
     "metadata": {},
     "output_type": "execute_result"
    },
    {
     "data": {
      "image/png": "[encoded data removed]",
      "text/plain": [
       "<Figure size 432x288 with 1 Axes>"
      ]
     },
     "metadata": {
      "needs_background": "light"
     },
     "output_type": "display_data"
    }
   ],
   "source": [
    "sns.barplot(x=\"day\", y=\"total_bill\", data=tips, palette=\"Greys\")"
   ]
  },
  {
   "cell_type": "markdown",
   "id": "8f89e771-59a8-4f15-b3f4-a59329afcf6e",
   "metadata": {},
   "source": [
    "### 線の太さ、線の色、エラーバーの色を指定する | linewidth, edgecolor, errcolor"
   ]
  },
  {
   "cell_type": "code",
   "execution_count": 24,
   "id": "d690b130-3621-4843-b377-ec0238618a93",
   "metadata": {},
   "outputs": [
    {
     "data": {
      "text/plain": [
       "<AxesSubplot:xlabel='day', ylabel='total_bill'>"
      ]
     },
     "execution_count": 24,
     "metadata": {},
     "output_type": "execute_result"
    },
    {
     "data": {
      "image/png": "[encoded data removed]",
      "text/plain": [
       "<Figure size 432x288 with 1 Axes>"
      ]
     },
     "metadata": {
      "needs_background": "light"
     },
     "output_type": "display_data"
    }
   ],
   "source": [
    "sns.barplot(x=\"day\", y=\"total_bill\", data=tips, palette=\"Blues\", linewidth=3.5, edgecolor=\"navy\", errcolor=\"skyblue\")"
   ]
  },
  {
   "cell_type": "markdown",
   "id": "76fc9f09-0e1f-413c-a494-55cfc85eaa2f",
   "metadata": {},
   "source": [
    "## 複数の棒グラフを出力する\n",
    "\n",
    "figureオブジェクトとaxesオブジェクトを作成することで、グラフを描画するスペースの大きさ（幅、高さ）とその中にいくつのグラフを作成するかを指定することが出来ます。"
   ]
  },
  {
   "cell_type": "markdown",
   "id": "1464f172-7282-4e19-8358-24a9a88b7de1",
   "metadata": {},
   "source": [
    "### 複数の棒グラフを出力する | ax"
   ]
  },
  {
   "cell_type": "code",
   "execution_count": 34,
   "id": "6531fe8c-ac3d-4024-811b-357e08cdfb76",
   "metadata": {},
   "outputs": [
    {
     "data": {
      "image/png": "[encoded data removed]",
      "text/plain": [
       "<Figure size 1800x1440 with 9 Axes>"
      ]
     },
     "metadata": {
      "needs_background": "light"
     },
     "output_type": "display_data"
    }
   ],
   "source": [
    "# figureオブジェクトとaxesオブジェクトの作成\n",
    "fig, ax = plt.subplots(3, 3, figsize=(25,20))\n",
    "\n",
    "sns.barplot(x='day', y='total_bill', data=tips, ax=ax[0,0])\n",
    "sns.barplot(x='day', y='total_bill', data=tips, hue='sex', ax=ax[0,1])\n",
    "sns.barplot(x='total_bill', y='day', data=tips, ax=ax[0,2])\n",
    "sns.barplot(x=\"time\", y=\"tip\", data=tips, order=['Dinner', 'Lunch'], ax=ax[1,0])\n",
    "sns.barplot(x='day', y='total_bill', data=tips, ci=68, ax=ax[1,1])\n",
    "sns.barplot(x=\"day\", y=\"total_bill\", data=tips, capsize=0.2, ax=ax[1,2])\n",
    "sns.barplot(x=\"day\", y=\"total_bill\", data=tips, color='orange', ax=ax[2,0])\n",
    "sns.barplot(x=\"day\", y=\"total_bill\", data=tips, palette=\"Greys\", ax=ax[2,1])\n",
    "sns.barplot(x=\"day\", y=\"total_bill\", data=tips, palette=\"Blues\", linewidth=3.5, edgecolor=\"navy\", errcolor=\"skyblue\", ax=ax[2,2])\n",
    "\n",
    "plt.savefig('barplots.png')"
   ]
  },
  {
   "cell_type": "code",
   "execution_count": null,
   "id": "31886e4e-45da-44b2-a58a-55721570b6b4",
   "metadata": {},
   "outputs": [],
   "source": []
  }
 ],
 "metadata": {
  "kernelspec": {
   "display_name": "Python 3 (ipykernel)",
   "language": "python",
   "name": "python3"
  },
  "language_info": {
   "codemirror_mode": {
    "name": "ipython",
    "version": 3
   },
   "file_extension": ".py",
   "mimetype": "text/x-python",
   "name": "python",
   "nbconvert_exporter": "python",
   "pygments_lexer": "ipython3",
   "version": "3.9.7"
  }
 },
 "nbformat": 4,
 "nbformat_minor": 5
}
