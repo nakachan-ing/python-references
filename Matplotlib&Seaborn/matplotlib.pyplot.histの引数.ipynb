{
 "cells": [
  {
   "cell_type": "markdown",
   "id": "739733d3-c0f3-4c3e-a455-f653cc4fcca8",
   "metadata": {},
   "source": [
    "## matplotlib.pyplot.histの引数一覧"
   ]
  },
  {
   "cell_type": "markdown",
   "id": "cf8d4167-d844-4645-a600-a573a13837fd",
   "metadata": {},
   "source": [
    "```Python\n",
    "matplotlib.pyplot.hist(x, bins=None, range=None, density=False, weights=None, cumulative=False, bottom=None, histtype='bar', align='mid', orientation='vertical', rwidth=None, log=False, color=None, label=None, stacked=False, *, data=None, **kwargs)\n",
    "```"
   ]
  },
  {
   "cell_type": "markdown",
   "id": "c08affb6-4345-4099-9032-55307de5174b",
   "metadata": {},
   "source": [
    "| 引数        | 指定する値                                                                                                                                                  | \n",
    "| ----------- | ----------------------------------------------------------------------------------------------------------------------------------------------------------- | \n",
    "| x (必須)    | ヒストグラムを作成するためのデータの配列                                                                                                                    | \n",
    "| bins        | ビン (表示する棒) の数。階級数。(デフォルト値: 10)                                                                                                          | \n",
    "| range       | ビンの最小値と最大値を指定。(デフォルト値: (x.min(), x.max()))                                                                                              | \n",
    "| density      | True に設定すると合計値が 1 になるように正規化する。 (デフォルト値: False)                                                                                  | \n",
    "| cumulative  | True に設定すると、累積ヒストグラムを出力。 (デフォルト値: False)                                                                                           | \n",
    "| bottom      | 各棒の下側の余白を数値または配列で指定。                                                                                                                    | \n",
    "| histtype    | 'bar' (通常のヒストグラム), 'barstacked' (積み上げヒストグラム), 'step' (線), 'stepfilled' (塗りつぶしありの線) から選択。 (デフォルト値: ‘bar’) | \n",
    "| align       | 各棒の中心を X 軸目盛上のどの横位置で出力するか。 'left', 'mid', 'right' から選択。(デフォルト値: 'mid')                                                    | \n",
    "| orientation | 棒の方向。'horizontal' (水平方向), 'vertical' (垂直方向) から選択。(デフォルト値: 'vertical')                                                               | \n",
    "| rwidth      | 各棒の幅を数値または、配列で指定。                                                                                                                          | \n",
    "| log         | True に設定すると、縦軸を対数目盛で表示します。                                                                                                             | \n",
    "| color       | ヒストグラムの色。配列で指定し、データセット単位で色を指定することができます。                                                                              | \n",
    "| label       | 凡例を載せる際に使用します。                                                                                                                                | \n",
    "| stacked     | True に設定すると積み上げヒストグラムで出力します。False に設定すると、横に並べて出力します。                                                               | "
   ]
  },
  {
   "cell_type": "markdown",
   "id": "3b08542b-9259-4d04-867c-5cb18708a51b",
   "metadata": {},
   "source": [
    "## 基本的なヒストグラムを作成する\n",
    "\n",
    "使用するデータは、「統計科学研究所」のWebサイトの統計データの中から、「教科の成績データ」を使用します。\n",
    "\n",
    "データは次のコマンドでダウンロードすることが出来ます。\n",
    "\n",
    "```Shell\n",
    "$ curl https://statistics.co.jp/reference/statistical_data/seiseki.csv -O\n",
    "```"
   ]
  },
  {
   "cell_type": "code",
   "execution_count": 3,
   "id": "c7d1bbdf-a328-401f-9f3c-d1bf34be9341",
   "metadata": {},
   "outputs": [
    {
     "name": "stdout",
     "output_type": "stream",
     "text": [
      "データ数:166\n"
     ]
    },
    {
     "data": {
      "text/html": [
       "<div>\n",
       "<style scoped>\n",
       "    .dataframe tbody tr th:only-of-type {\n",
       "        vertical-align: middle;\n",
       "    }\n",
       "\n",
       "    .dataframe tbody tr th {\n",
       "        vertical-align: top;\n",
       "    }\n",
       "\n",
       "    .dataframe thead th {\n",
       "        text-align: right;\n",
       "    }\n",
       "</style>\n",
       "<table border=\"1\" class=\"dataframe\">\n",
       "  <thead>\n",
       "    <tr style=\"text-align: right;\">\n",
       "      <th></th>\n",
       "      <th>国語</th>\n",
       "      <th>社会</th>\n",
       "      <th>数学</th>\n",
       "      <th>理科</th>\n",
       "      <th>音楽</th>\n",
       "      <th>美術</th>\n",
       "      <th>体育</th>\n",
       "      <th>技科</th>\n",
       "      <th>英語</th>\n",
       "    </tr>\n",
       "  </thead>\n",
       "  <tbody>\n",
       "    <tr>\n",
       "      <th>0</th>\n",
       "      <td>30</td>\n",
       "      <td>43</td>\n",
       "      <td>51</td>\n",
       "      <td>63</td>\n",
       "      <td>60</td>\n",
       "      <td>66</td>\n",
       "      <td>37</td>\n",
       "      <td>44</td>\n",
       "      <td>20</td>\n",
       "    </tr>\n",
       "    <tr>\n",
       "      <th>1</th>\n",
       "      <td>39</td>\n",
       "      <td>21</td>\n",
       "      <td>49</td>\n",
       "      <td>56</td>\n",
       "      <td>70</td>\n",
       "      <td>72</td>\n",
       "      <td>56</td>\n",
       "      <td>63</td>\n",
       "      <td>16</td>\n",
       "    </tr>\n",
       "    <tr>\n",
       "      <th>2</th>\n",
       "      <td>29</td>\n",
       "      <td>30</td>\n",
       "      <td>23</td>\n",
       "      <td>57</td>\n",
       "      <td>69</td>\n",
       "      <td>76</td>\n",
       "      <td>33</td>\n",
       "      <td>54</td>\n",
       "      <td>6</td>\n",
       "    </tr>\n",
       "    <tr>\n",
       "      <th>3</th>\n",
       "      <td>95</td>\n",
       "      <td>87</td>\n",
       "      <td>77</td>\n",
       "      <td>100</td>\n",
       "      <td>77</td>\n",
       "      <td>82</td>\n",
       "      <td>78</td>\n",
       "      <td>96</td>\n",
       "      <td>87</td>\n",
       "    </tr>\n",
       "    <tr>\n",
       "      <th>4</th>\n",
       "      <td>70</td>\n",
       "      <td>71</td>\n",
       "      <td>78</td>\n",
       "      <td>67</td>\n",
       "      <td>72</td>\n",
       "      <td>82</td>\n",
       "      <td>46</td>\n",
       "      <td>63</td>\n",
       "      <td>44</td>\n",
       "    </tr>\n",
       "  </tbody>\n",
       "</table>\n",
       "</div>"
      ],
      "text/plain": [
       "   国語  社会  数学   理科  音楽  美術  体育  技科  英語\n",
       "0  30  43  51   63  60  66  37  44  20\n",
       "1  39  21  49   56  70  72  56  63  16\n",
       "2  29  30  23   57  69  76  33  54   6\n",
       "3  95  87  77  100  77  82  78  96  87\n",
       "4  70  71  78   67  72  82  46  63  44"
      ]
     },
     "execution_count": 3,
     "metadata": {},
     "output_type": "execute_result"
    }
   ],
   "source": [
    "import pandas as pd\n",
    "import matplotlib.pyplot as plt\n",
    "import japanize_matplotlib\n",
    "%matplotlib inline\n",
    "\n",
    "df = pd.read_csv('data3.csv', encoding='shift-jis')\n",
    "print(f'データ数:{len(df)}')\n",
    "df.head()"
   ]
  },
  {
   "cell_type": "markdown",
   "id": "f7cf2770-ec2b-415c-9d12-77474c20054a",
   "metadata": {},
   "source": [
    "### 必須の引数のみでヒストグラムを作成する | x\n",
    "\n",
    "国語の点数を引数`x`に指定してヒストグラムを作成してみます。"
   ]
  },
  {
   "cell_type": "code",
   "execution_count": 4,
   "id": "07a3c0d1-b746-40f4-ad4c-bb1387819fac",
   "metadata": {},
   "outputs": [
    {
     "data": {
      "text/plain": [
       "0    30\n",
       "1    39\n",
       "2    29\n",
       "3    95\n",
       "4    70\n",
       "Name: 国語, dtype: int64"
      ]
     },
     "execution_count": 4,
     "metadata": {},
     "output_type": "execute_result"
    }
   ],
   "source": [
    "x = df['国語']\n",
    "x.head()"
   ]
  },
  {
   "cell_type": "code",
   "execution_count": 5,
   "id": "85bcc4ef-10eb-419f-be18-a34a3fa5c906",
   "metadata": {},
   "outputs": [
    {
     "data": {
      "text/plain": [
       "(array([ 7.,  4., 10., 28., 22., 20., 24., 27., 17.,  7.]),\n",
       " array([ 0. ,  9.6, 19.2, 28.8, 38.4, 48. , 57.6, 67.2, 76.8, 86.4, 96. ]),\n",
       " <BarContainer object of 10 artists>)"
      ]
     },
     "execution_count": 5,
     "metadata": {},
     "output_type": "execute_result"
    },
    {
     "data": {
      "image/png": "[encoded data removed]",
      "text/plain": [
       "<Figure size 432x288 with 1 Axes>"
      ]
     },
     "metadata": {
      "needs_background": "light"
     },
     "output_type": "display_data"
    }
   ],
   "source": [
    "plt.hist(x)"
   ]
  },
  {
   "cell_type": "markdown",
   "id": "6895abc3-8963-4d9b-81d2-6c0a3073f202",
   "metadata": {
    "tags": []
   },
   "source": [
    "### 棒の数を指定する | bins\n",
    "\n",
    "引数`bins`に20を指定してヒストグラムを作成します。"
   ]
  },
  {
   "cell_type": "code",
   "execution_count": 6,
   "id": "ca2ee680-a556-42e5-b921-23b5e6a8be8a",
   "metadata": {},
   "outputs": [
    {
     "data": {
      "text/plain": [
       "(array([ 3.,  4.,  0.,  4.,  5.,  5., 15., 13., 13.,  9., 11.,  9., 15.,\n",
       "         9., 14., 13.,  8.,  9.,  5.,  2.]),\n",
       " array([ 0. ,  4.8,  9.6, 14.4, 19.2, 24. , 28.8, 33.6, 38.4, 43.2, 48. ,\n",
       "        52.8, 57.6, 62.4, 67.2, 72. , 76.8, 81.6, 86.4, 91.2, 96. ]),\n",
       " <BarContainer object of 20 artists>)"
      ]
     },
     "execution_count": 6,
     "metadata": {},
     "output_type": "execute_result"
    },
    {
     "data": {
      "image/png": "[encoded data removed]",
      "text/plain": [
       "<Figure size 432x288 with 1 Axes>"
      ]
     },
     "metadata": {
      "needs_background": "light"
     },
     "output_type": "display_data"
    }
   ],
   "source": [
    "plt.hist(x, bins=20)"
   ]
  },
  {
   "cell_type": "markdown",
   "id": "bd17cf54-f803-45fb-b2e6-dc133971da69",
   "metadata": {},
   "source": [
    "### 棒の最小値と最大値を指定する | range\n",
    "\n",
    "最小値を50、最大値を100を指定してみます。"
   ]
  },
  {
   "cell_type": "code",
   "execution_count": 9,
   "id": "5f88a2e5-b14c-4446-826d-ad7363efe723",
   "metadata": {},
   "outputs": [
    {
     "data": {
      "text/plain": [
       "(array([11., 10., 13., 11., 20.,  7., 11.,  4.,  2.,  2.]),\n",
       " array([ 50.,  55.,  60.,  65.,  70.,  75.,  80.,  85.,  90.,  95., 100.]),\n",
       " <BarContainer object of 10 artists>)"
      ]
     },
     "execution_count": 9,
     "metadata": {},
     "output_type": "execute_result"
    },
    {
     "data": {
      "image/png": "[encoded data removed]",
      "text/plain": [
       "<Figure size 432x288 with 1 Axes>"
      ]
     },
     "metadata": {
      "needs_background": "light"
     },
     "output_type": "display_data"
    }
   ],
   "source": [
    "plt.hist(x, range=(50, 100))"
   ]
  },
  {
   "cell_type": "markdown",
   "id": "d143a1a7-5a04-4f5e-9c58-555d3e8f526a",
   "metadata": {},
   "source": [
    "### 正規化 (合計すると1になるよう調整)してヒストグラムを作成する | density"
   ]
  },
  {
   "cell_type": "code",
   "execution_count": 13,
   "id": "a64064f2-d54a-45a3-b8f0-1c6b9150e15a",
   "metadata": {},
   "outputs": [
    {
     "data": {
      "text/plain": [
       "(array([0.00376506, 0.00502008, 0.        , 0.00502008, 0.0062751 ,\n",
       "        0.0062751 , 0.0188253 , 0.01631526, 0.01631526, 0.01129518,\n",
       "        0.01380522, 0.01129518, 0.0188253 , 0.01129518, 0.01757028,\n",
       "        0.01631526, 0.01004016, 0.01129518, 0.0062751 , 0.00251004]),\n",
       " array([ 0. ,  4.8,  9.6, 14.4, 19.2, 24. , 28.8, 33.6, 38.4, 43.2, 48. ,\n",
       "        52.8, 57.6, 62.4, 67.2, 72. , 76.8, 81.6, 86.4, 91.2, 96. ]),\n",
       " <BarContainer object of 20 artists>)"
      ]
     },
     "execution_count": 13,
     "metadata": {},
     "output_type": "execute_result"
    },
    {
     "data": {
      "image/png": "[encoded data removed]",
      "text/plain": [
       "<Figure size 432x288 with 1 Axes>"
      ]
     },
     "metadata": {
      "needs_background": "light"
     },
     "output_type": "display_data"
    }
   ],
   "source": [
    "plt.hist(x, bins=20, density=True)"
   ]
  },
  {
   "cell_type": "markdown",
   "id": "5fda8a74-3bf6-4554-826b-9b9de5b8e8c4",
   "metadata": {},
   "source": [
    "### 累積値を出力する | cumulative\n",
    "\n",
    "引数`cumulative`に`True`を指定すると、累積ヒストグラムを作成出来ます。"
   ]
  },
  {
   "cell_type": "code",
   "execution_count": 14,
   "id": "bbce9d0c-5fc1-4aa6-b9a9-1c501b3e8d66",
   "metadata": {},
   "outputs": [
    {
     "data": {
      "text/plain": [
       "(array([  3.,   7.,   7.,  11.,  16.,  21.,  36.,  49.,  62.,  71.,  82.,\n",
       "         91., 106., 115., 129., 142., 150., 159., 164., 166.]),\n",
       " array([ 0. ,  4.8,  9.6, 14.4, 19.2, 24. , 28.8, 33.6, 38.4, 43.2, 48. ,\n",
       "        52.8, 57.6, 62.4, 67.2, 72. , 76.8, 81.6, 86.4, 91.2, 96. ]),\n",
       " <BarContainer object of 20 artists>)"
      ]
     },
     "execution_count": 14,
     "metadata": {},
     "output_type": "execute_result"
    },
    {
     "data": {
      "image/png": "[encoded data removed]",
      "text/plain": [
       "<Figure size 432x288 with 1 Axes>"
      ]
     },
     "metadata": {
      "needs_background": "light"
     },
     "output_type": "display_data"
    }
   ],
   "source": [
    "plt.hist(x, bins=20, cumulative=True)"
   ]
  },
  {
   "cell_type": "markdown",
   "id": "64989972-45a7-478a-a920-68be0539beee",
   "metadata": {},
   "source": [
    "### 縦軸を対数目盛で表示する | log\n",
    "\n",
    "引数`cumulative`に`True`を指定すると、対数目盛でヒストグラムを作成出来ます。"
   ]
  },
  {
   "cell_type": "code",
   "execution_count": 15,
   "id": "badb2479-e5e3-44ec-b962-4668c1ecb861",
   "metadata": {},
   "outputs": [
    {
     "data": {
      "text/plain": [
       "(array([ 7.,  4., 10., 28., 22., 20., 24., 27., 17.,  7.]),\n",
       " array([ 0. ,  9.6, 19.2, 28.8, 38.4, 48. , 57.6, 67.2, 76.8, 86.4, 96. ]),\n",
       " <BarContainer object of 10 artists>)"
      ]
     },
     "execution_count": 15,
     "metadata": {},
     "output_type": "execute_result"
    },
    {
     "data": {
      "image/png": "[encoded data removed]",
      "text/plain": [
       "<Figure size 432x288 with 1 Axes>"
      ]
     },
     "metadata": {
      "needs_background": "light"
     },
     "output_type": "display_data"
    }
   ],
   "source": [
    "plt.hist(x, log=True)"
   ]
  },
  {
   "cell_type": "markdown",
   "id": "1036006b-ee0e-4c29-98e9-372a909900da",
   "metadata": {},
   "source": [
    "### 棒の幅を指定する | rwidth\n",
    "\n",
    "帽の幅を0.8にして、ヒストグラムを作成してみます。"
   ]
  },
  {
   "cell_type": "code",
   "execution_count": 16,
   "id": "c449a875-2c29-4179-b3e8-469291c4651e",
   "metadata": {},
   "outputs": [
    {
     "data": {
      "text/plain": [
       "(array([ 7.,  4., 10., 28., 22., 20., 24., 27., 17.,  7.]),\n",
       " array([ 0. ,  9.6, 19.2, 28.8, 38.4, 48. , 57.6, 67.2, 76.8, 86.4, 96. ]),\n",
       " <BarContainer object of 10 artists>)"
      ]
     },
     "execution_count": 16,
     "metadata": {},
     "output_type": "execute_result"
    },
    {
     "data": {
      "image/png": "[encoded data removed]",
      "text/plain": [
       "<Figure size 432x288 with 1 Axes>"
      ]
     },
     "metadata": {
      "needs_background": "light"
     },
     "output_type": "display_data"
    }
   ],
   "source": [
    "plt.hist(x, rwidth=0.8)"
   ]
  },
  {
   "cell_type": "markdown",
   "id": "3a90e8af-e0e7-4088-8525-3b496e0933c7",
   "metadata": {},
   "source": [
    "### 棒の色を指定する | color\n",
    "\n",
    "棒の色を赤にして、ヒストグラムを作成してみます。"
   ]
  },
  {
   "cell_type": "code",
   "execution_count": 17,
   "id": "325903f7-7268-4bb6-8cec-c8cbfbceedda",
   "metadata": {},
   "outputs": [
    {
     "data": {
      "text/plain": [
       "(array([ 7.,  4., 10., 28., 22., 20., 24., 27., 17.,  7.]),\n",
       " array([ 0. ,  9.6, 19.2, 28.8, 38.4, 48. , 57.6, 67.2, 76.8, 86.4, 96. ]),\n",
       " <BarContainer object of 10 artists>)"
      ]
     },
     "execution_count": 17,
     "metadata": {},
     "output_type": "execute_result"
    },
    {
     "data": {
      "image/png": "[encoded data removed]",
      "text/plain": [
       "<Figure size 432x288 with 1 Axes>"
      ]
     },
     "metadata": {
      "needs_background": "light"
     },
     "output_type": "display_data"
    }
   ],
   "source": [
    "plt.hist(x, color='red')"
   ]
  },
  {
   "cell_type": "markdown",
   "id": "848acb0f-1d3d-409a-884b-caf6f7a7a627",
   "metadata": {},
   "source": [
    "### 塗りつぶしなしの線でヒストグラムを作成する | histtype\n",
    "\n",
    "引数`histtype`に`step`を指定すると、塗りつぶしなしのヒストグラムをヒストグラムを作成出来ます。"
   ]
  },
  {
   "cell_type": "code",
   "execution_count": 21,
   "id": "45ed1464-e91f-4b83-bff0-6886ea1330d0",
   "metadata": {},
   "outputs": [
    {
     "data": {
      "text/plain": [
       "(array([ 7.,  4., 10., 28., 22., 20., 24., 27., 17.,  7.]),\n",
       " array([ 0. ,  9.6, 19.2, 28.8, 38.4, 48. , 57.6, 67.2, 76.8, 86.4, 96. ]),\n",
       " [<matplotlib.patches.Polygon at 0x7fdba334b2b0>])"
      ]
     },
     "execution_count": 21,
     "metadata": {},
     "output_type": "execute_result"
    },
    {
     "data": {
      "image/png": "[encoded data removed]",
      "text/plain": [
       "<Figure size 432x288 with 1 Axes>"
      ]
     },
     "metadata": {
      "needs_background": "light"
     },
     "output_type": "display_data"
    }
   ],
   "source": [
    "plt.hist(x, histtype='step')"
   ]
  },
  {
   "cell_type": "markdown",
   "id": "d9ce873a-256d-4881-8a5c-250edefd436d",
   "metadata": {},
   "source": [
    "## 棒の位置・方向に関する設定"
   ]
  },
  {
   "cell_type": "markdown",
   "id": "0d7117bf-3070-474d-bd34-a179f6194753",
   "metadata": {},
   "source": [
    "### 各棒の位置を目盛上の左側（右側）に設定する | align\n",
    "\n",
    "引数`align`に`left(right)`を指定すると、棒の位置を変えることが出来ます。"
   ]
  },
  {
   "cell_type": "code",
   "execution_count": 30,
   "id": "963fe645-58ff-4236-884c-826a9356b956",
   "metadata": {},
   "outputs": [
    {
     "data": {
      "text/plain": [
       "(array([ 7.,  4., 10., 28., 22., 20., 24., 27., 17.,  7.]),\n",
       " array([ 0. ,  9.6, 19.2, 28.8, 38.4, 48. , 57.6, 67.2, 76.8, 86.4, 96. ]),\n",
       " <BarContainer object of 10 artists>)"
      ]
     },
     "execution_count": 30,
     "metadata": {},
     "output_type": "execute_result"
    },
    {
     "data": {
      "image/png": "[encoded data removed]",
      "text/plain": [
       "<Figure size 432x288 with 1 Axes>"
      ]
     },
     "metadata": {
      "needs_background": "light"
     },
     "output_type": "display_data"
    }
   ],
   "source": [
    "plt.hist(x, align='left')"
   ]
  },
  {
   "cell_type": "code",
   "execution_count": 31,
   "id": "9668df01-0576-4f31-8ef3-a175670841a4",
   "metadata": {},
   "outputs": [
    {
     "data": {
      "text/plain": [
       "(array([ 7.,  4., 10., 28., 22., 20., 24., 27., 17.,  7.]),\n",
       " array([ 0. ,  9.6, 19.2, 28.8, 38.4, 48. , 57.6, 67.2, 76.8, 86.4, 96. ]),\n",
       " <BarContainer object of 10 artists>)"
      ]
     },
     "execution_count": 31,
     "metadata": {},
     "output_type": "execute_result"
    },
    {
     "data": {
      "image/png": "[encoded data removed]",
      "text/plain": [
       "<Figure size 432x288 with 1 Axes>"
      ]
     },
     "metadata": {
      "needs_background": "light"
     },
     "output_type": "display_data"
    }
   ],
   "source": [
    "plt.hist(x, align='right')"
   ]
  },
  {
   "cell_type": "markdown",
   "id": "26063336-16b5-49fe-9651-1eb6ecb47158",
   "metadata": {},
   "source": [
    "### 棒の向きを横方向に出力 | orientation\n",
    "\n",
    "引数`orientation`に`horizontal`を指定すると棒の向きを横方向にすることが出来ます。"
   ]
  },
  {
   "cell_type": "code",
   "execution_count": 32,
   "id": "a619c788-99e5-498b-8825-8a20c1a14fe9",
   "metadata": {},
   "outputs": [
    {
     "data": {
      "text/plain": [
       "(array([ 7.,  4., 10., 28., 22., 20., 24., 27., 17.,  7.]),\n",
       " array([ 0. ,  9.6, 19.2, 28.8, 38.4, 48. , 57.6, 67.2, 76.8, 86.4, 96. ]),\n",
       " <BarContainer object of 10 artists>)"
      ]
     },
     "execution_count": 32,
     "metadata": {},
     "output_type": "execute_result"
    },
    {
     "data": {
      "image/png": "[encoded data removed]",
      "text/plain": [
       "<Figure size 432x288 with 1 Axes>"
      ]
     },
     "metadata": {
      "needs_background": "light"
     },
     "output_type": "display_data"
    }
   ],
   "source": [
    "plt.hist(x, orientation='horizontal')"
   ]
  },
  {
   "cell_type": "markdown",
   "id": "268f6841-36fe-458b-89cb-fa3b2aa1aa68",
   "metadata": {},
   "source": [
    "## 積み上げヒストグラムを作成する\n",
    "\n",
    "複数のデータをまとめてヒストグラムを作成する場合、引数`x`にデータをリストで渡します。\n",
    "\n",
    "国語と英語の点数を引数`x`にリストで指定してヒストグラムを作成してみます。"
   ]
  },
  {
   "cell_type": "code",
   "execution_count": 33,
   "id": "009162d4-5209-4f76-a8dc-48924cc3eb20",
   "metadata": {},
   "outputs": [
    {
     "data": {
      "text/plain": [
       "0    20\n",
       "1    16\n",
       "2     6\n",
       "3    87\n",
       "4    44\n",
       "Name: 英語, dtype: int64"
      ]
     },
     "execution_count": 33,
     "metadata": {},
     "output_type": "execute_result"
    }
   ],
   "source": [
    "y = df['英語']\n",
    "y.head()"
   ]
  },
  {
   "cell_type": "markdown",
   "id": "6a1ca2d2-0076-45d6-8191-59dc3159e471",
   "metadata": {},
   "source": [
    "### 引数histtypeで指定して作成する | histtype\n",
    "\n",
    "引数`histtype`に`barstacked`を指定すると、積み上げヒストグラムを作成出来ます。"
   ]
  },
  {
   "cell_type": "code",
   "execution_count": 34,
   "id": "7497a146-f358-4613-8e41-625442323afb",
   "metadata": {},
   "outputs": [
    {
     "data": {
      "text/plain": [
       "(array([[ 7.,  4., 15., 26., 23., 21., 24., 27., 15.,  4.],\n",
       "        [41., 26., 34., 42., 41., 28., 37., 43., 27., 13.]]),\n",
       " array([ 0. ,  9.9, 19.8, 29.7, 39.6, 49.5, 59.4, 69.3, 79.2, 89.1, 99. ]),\n",
       " <a list of 2 BarContainer objects>)"
      ]
     },
     "execution_count": 34,
     "metadata": {},
     "output_type": "execute_result"
    },
    {
     "data": {
      "image/png": "[encoded data removed]",
      "text/plain": [
       "<Figure size 432x288 with 1 Axes>"
      ]
     },
     "metadata": {
      "needs_background": "light"
     },
     "output_type": "display_data"
    }
   ],
   "source": [
    "plt.hist([x,y], histtype='barstacked')"
   ]
  },
  {
   "cell_type": "markdown",
   "id": "0f6506d8-3042-4da0-9f32-a06d07a5148f",
   "metadata": {},
   "source": [
    "### 引数stackedで指定して作成する | stacked\n",
    "\n",
    "引数`stacked`に`True`を指定すると、積み上げヒストグラムを作成出来ます。"
   ]
  },
  {
   "cell_type": "code",
   "execution_count": 35,
   "id": "cbe77f01-cf4a-47d1-bee1-d3c25a6952c2",
   "metadata": {},
   "outputs": [
    {
     "data": {
      "text/plain": [
       "(array([[ 7.,  4., 15., 26., 23., 21., 24., 27., 15.,  4.],\n",
       "        [41., 26., 34., 42., 41., 28., 37., 43., 27., 13.]]),\n",
       " array([ 0. ,  9.9, 19.8, 29.7, 39.6, 49.5, 59.4, 69.3, 79.2, 89.1, 99. ]),\n",
       " <a list of 2 BarContainer objects>)"
      ]
     },
     "execution_count": 35,
     "metadata": {},
     "output_type": "execute_result"
    },
    {
     "data": {
      "image/png": "[encoded data removed]",
      "text/plain": [
       "<Figure size 432x288 with 1 Axes>"
      ]
     },
     "metadata": {
      "needs_background": "light"
     },
     "output_type": "display_data"
    }
   ],
   "source": [
    "plt.hist([x,y], stacked=True)"
   ]
  },
  {
   "cell_type": "markdown",
   "id": "edbd9ce0-4640-4a4f-bfa2-50e122e10658",
   "metadata": {},
   "source": [
    "### 積み上げヒストグラムの色を指定する | color\n",
    "\n",
    "引数`color`にリストで色を指定します。"
   ]
  },
  {
   "cell_type": "code",
   "execution_count": 36,
   "id": "34168a58-9ac8-45a1-af10-c458e8fc72a6",
   "metadata": {},
   "outputs": [
    {
     "data": {
      "text/plain": [
       "(array([[ 7.,  4., 15., 26., 23., 21., 24., 27., 15.,  4.],\n",
       "        [41., 26., 34., 42., 41., 28., 37., 43., 27., 13.]]),\n",
       " array([ 0. ,  9.9, 19.8, 29.7, 39.6, 49.5, 59.4, 69.3, 79.2, 89.1, 99. ]),\n",
       " <a list of 2 BarContainer objects>)"
      ]
     },
     "execution_count": 36,
     "metadata": {},
     "output_type": "execute_result"
    },
    {
     "data": {
      "image/png": "[encoded data removed]",
      "text/plain": [
       "<Figure size 432x288 with 1 Axes>"
      ]
     },
     "metadata": {
      "needs_background": "light"
     },
     "output_type": "display_data"
    }
   ],
   "source": [
    "plt.hist([x,y], stacked=True, color=['red', 'blue'])"
   ]
  },
  {
   "cell_type": "markdown",
   "id": "845c124e-bc20-491d-bb27-a9c232057b8a",
   "metadata": {},
   "source": [
    "### 複数の棒を並べてヒストグラムを作成する\n",
    "\n",
    "引数`stacked`に`False`を指定すると、複数の棒を並べてヒストグラムを作成することが出来ます。"
   ]
  },
  {
   "cell_type": "code",
   "execution_count": 37,
   "id": "28f06296-5861-48d7-a3a4-d467ec3e2b33",
   "metadata": {},
   "outputs": [
    {
     "data": {
      "text/plain": [
       "(array([[ 7.,  4., 15., 26., 23., 21., 24., 27., 15.,  4.],\n",
       "        [34., 22., 19., 16., 18.,  7., 13., 16., 12.,  9.]]),\n",
       " array([ 0. ,  9.9, 19.8, 29.7, 39.6, 49.5, 59.4, 69.3, 79.2, 89.1, 99. ]),\n",
       " <a list of 2 BarContainer objects>)"
      ]
     },
     "execution_count": 37,
     "metadata": {},
     "output_type": "execute_result"
    },
    {
     "data": {
      "image/png": "[encoded data removed]",
      "text/plain": [
       "<Figure size 432x288 with 1 Axes>"
      ]
     },
     "metadata": {
      "needs_background": "light"
     },
     "output_type": "display_data"
    }
   ],
   "source": [
    "plt.hist([x,y], stacked=False)"
   ]
  },
  {
   "cell_type": "markdown",
   "id": "6725167a-bd66-40ab-b023-848c47a1f7ce",
   "metadata": {},
   "source": [
    "**ポイント**\n",
    "\n",
    "引数`stacked`を使用しなくても、デフォルトで棒を並べてヒストグラムを作成出来ます。"
   ]
  },
  {
   "cell_type": "markdown",
   "id": "43ff02a5-2785-4993-b0f7-1e4dd3a034d9",
   "metadata": {},
   "source": [
    "### 凡例を表示する | label"
   ]
  },
  {
   "cell_type": "code",
   "execution_count": 41,
   "id": "3284c820-e14d-46bc-8bb9-412aaa67fa8a",
   "metadata": {},
   "outputs": [
    {
     "data": {
      "text/plain": [
       "<matplotlib.legend.Legend at 0x7fdba46db460>"
      ]
     },
     "execution_count": 41,
     "metadata": {},
     "output_type": "execute_result"
    },
    {
     "data": {
      "image/png": "[encoded data removed]",
      "text/plain": [
       "<Figure size 432x288 with 1 Axes>"
      ]
     },
     "metadata": {
      "needs_background": "light"
     },
     "output_type": "display_data"
    }
   ],
   "source": [
    "# 引数labelに指定するレベルをリストで用意します。\n",
    "labels = ['国語', '英語']\n",
    "\n",
    "plt.hist([x,y], label=labels)\n",
    "\n",
    "# 凡例を表示します。\n",
    "plt.legend()"
   ]
  },
  {
   "cell_type": "code",
   "execution_count": null,
   "id": "14b55aaf-751e-41c1-834d-2d4663246287",
   "metadata": {},
   "outputs": [],
   "source": []
  }
 ],
 "metadata": {
  "kernelspec": {
   "display_name": "Python 3 (ipykernel)",
   "language": "python",
   "name": "python3"
  },
  "language_info": {
   "codemirror_mode": {
    "name": "ipython",
    "version": 3
   },
   "file_extension": ".py",
   "mimetype": "text/x-python",
   "name": "python",
   "nbconvert_exporter": "python",
   "pygments_lexer": "ipython3",
   "version": "3.9.7"
  }
 },
 "nbformat": 4,
 "nbformat_minor": 5
}
